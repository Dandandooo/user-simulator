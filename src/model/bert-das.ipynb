{
 "cells": [
  {
   "cell_type": "markdown",
   "source": [
    "# Training BERT for text-segment analysis"
   ],
   "metadata": {
    "collapsed": false
   },
   "id": "26461dd785582a2d"
  },
  {
   "cell_type": "markdown",
   "source": [
    "### 0. Initial setup"
   ],
   "metadata": {
    "collapsed": false
   },
   "id": "fd17d91121cf6788"
  },
  {
   "cell_type": "code",
   "outputs": [],
   "source": [
    "# Data Processing Libraries\n",
    "import json\n",
    "import glob\n",
    "import pandas as pd\n",
    "from transformers import RobertaTokenizer as BertTokenizer\n",
    "from datasets import Dataset\n",
    "\n",
    "# General Libraries\n",
    "import random\n",
    "\n",
    "# ML Libraries\n",
    "import numpy as np\n",
    "import torch\n",
    "\n",
    "# Model\n",
    "from transformers import RobertaForSequenceClassification as BertForSequenceClassification\n",
    "\n",
    "# Training\n",
    "from transformers import TrainingArguments, Trainer\n",
    "\n",
    "# Evaluation\n",
    "from transformers import EvalPrediction\n",
    "from sklearn.metrics import accuracy_score\n",
    "\n",
    "# My files\n",
    "from src.data_mod import TeachData\n",
    "from src.model import TeachModel\n",
    "\n",
    "random.seed(42)\n",
    "DTYPE = np.float32\n",
    "MODEL = \"FacebookAI/roberta-base\""
   ],
   "metadata": {
    "collapsed": false,
    "ExecuteTime": {
     "end_time": "2024-03-03T22:50:20.132728Z",
     "start_time": "2024-03-03T22:50:20.129744Z"
    }
   },
   "id": "b4fde8d31758935c",
   "execution_count": 11
  },
  {
   "cell_type": "code",
   "outputs": [
    {
     "data": {
      "text/plain": "['directions please <<RequestForInstruction>>',\n 'today we need to make a plate of toast <<Instruction>>',\n 'the bread is on the counter <<InformationOnObjectDetails>>',\n 'by the lettuce <<InformationOnObjectDetails>>',\n 'there should be a knife <<InformationOnObjectDetails>>',\n 'in the drawer under the toaster <<InformationOnObjectDetails>>',\n 'the toaster is by the fridge <<InformationOnObjectDetails>>',\n 'open the drawer under the toaster <<Instruction,InformationOnObjectDetails>>',\n 'the knife should be in there <<InformationOnObjectDetails>>',\n 'do you see it? <<Confirm>>',\n 'no knife <<Deny>>',\n 'there should also be a knife in the fridge <<InformationOnObjectDetails>>',\n \"let's check there <<InformationOther>>\",\n 'in the freezer <<InformationOnObjectDetails>>',\n 'there are 3 loaves of bread <<InformationOnObjectDetails>>',\n 'choose any and slice 1 please <<Instruction>>',\n 'then take a slice of bread <<Instruction>>',\n 'and toast it <<Instruction>>',\n 'you will need to put the knife down first <<InformationOther>>',\n 'having trouble with knife <<NotifyFailure>>',\n 'put back in fridge or on counter <<Instruction>>',\n 'we will need the plate from the fridge <<InformationOnObjectDetails>>',\n 'please take and place on the counter <<Instruction>>',\n 'the toasted slice of bread <<Instruction>>',\n 'goes on the plate <<Instruction>>',\n 'thank you for your help today <<FeedbackPositive>>',\n 'thank you <<Acknowledge>>',\n 'we are done for now <<Acknowledge>>',\n 'hello how can i help? <<Greetings/Salutations,RequestForInstruction>>',\n 'can you please make coffee? <<Instruction>>',\n \"there's a mug in the fridge <<InformationOnObjectDetails>>\",\n 'thank you <<FeedbackPositive>>',\n \"the coffee machine won't turn on <<NotifyFailure>>\",\n 'that was all, thanks! <<FeedbackPositive>>',\n 'today we are going to clean the bowls. <<Instruction>>',\n 'where are they <<RequestForObjectLocationAndOtherDetails>>',\n 'the bowlk is on the table <<InformationOnObjectDetails>>',\n 'finished. great job! <<Acknowledge,FeedbackPositive>>',\n 'ok <<Acknowledge>>',\n 'what should i do today? <<RequestForInstruction>>',\n 'slice the lettuce located in the cabinet above the toaster <<Instruction,InformationOnObjectDetails>>',\n 'the lettuce has been sliced. anything else? <<Acknowledge,RequestMore>>',\n 'next slice the tomato in the microwave <<Instruction>>',\n 'tomato has been sliced. next? <<Acknowledge,RequestForInstruction>>',\n 'next slice the tomato on the cja=hir <<Instruction>>',\n 'sorry chair. <<Instruction>>',\n 'tomato has been sliced. <<Acknowledge>>',\n 'sorry the potato on the chair needs to be sliced <<InformationOnObjectDetails,Instruction>>',\n 'ok. potato has been sliced. <<Acknowledge,Acknowledge>>',\n '1 slice needs to be cooked. <<Instruction>>',\n 'one cooked potato. <<Acknowledge>>',\n 'good work. now retrieve the plate from the fride for assembly. <<FeedbackPositive,Instruction>>',\n 'now place 1 slice of lettuce on the plate <<Instruction>>',\n 'now 2 slices of tomato <<Instruction>>',\n 'items have been placed. <<Acknowledge>>',\n 'thank you. all tasks complete. <<FeedbackPositive,Acknowledge>>',\n 'hey how can i help? <<RequestForInstruction>>',\n 'boil a potato please <<Instruction>>',\n 'thank you! <<FeedbackPositive>>',\n 'hi <<Greetings/Salutations>>',\n 'first task? <<RequestForInstruction>>',\n 'lets find the newspaper and put on one piece of furniture <<Instruction>>',\n 'where is the mewspaper <<RequestForObjectLocationAndOtherDetails>>',\n 'there is one on the chair <<InformationOnObjectDetails>>',\n 'there is another on the coffee table <<InformationOnObjectDetails>>',\n 'finished <<Acknowledge>>',\n 'thank you for the great job <<FeedbackPositive>>',\n 'cool <<Acknowledge>>',\n 'hello <<Greetings/Salutations>>',\n 'hello...what is my first task ) <<RequestForInstruction>>',\n 'please make two slices of lettuce <<Instruction>>',\n 'the lettuce is to the right of the stove in the cabinet under the toaster. <<InformationOnObjectDetails>>',\n 'thanks <<FeedbackPositive>>',\n 'do you need help finding the knife? <<RequestMore>>',\n 'is that it next to the apple <<RequestOtherInfo>>',\n 'there is one in cabinet next to microwave <<InformationOnObjectDetails>>',\n 'thank you <<FeedbackPositive>>',\n 'done <<Acknowledge>>',\n 'great job task done. now we need to clean the plate <<Instruction>>',\n 'where is the plate, please <<RequestForObjectLocationAndOtherDetails>>',\n 'nm <<MiscOther>>',\n 'you got it <<FeedbackPositive>>',\n 'now the lettuce needs to be put on the plate <<Instruction>>',\n 'done <<Acknowledge>>',\n 'awesome job task complete <<FeedbackPositive>>',\n 'what can i help you with? <<RequestForInstruction>>',\n 'you have to clean all the cloths <<Instruction>>',\n 'one is at the top of the toilet <<InformationOnObjectDetails>>',\n 'first one done <<Acknowledge>>',\n 'the other one is in teh cupboard underneath the sink <<InformationOnObjectDetails>>',\n 'closer to the wall <<InformationOnObjectDetails>>',\n 'thank you that is all <<FeedbackPositive,Acknowledge>>',\n 'what shall i do today? <<RequestForInstruction>>',\n 'make potato slices <<Instruction>>',\n 'sorry tomato slices <<Instruction>>',\n 'where is tomato and knife? <<RequestForObjectLocationAndOtherDetails>>',\n 'check on the brown shelf <<InformationOnObjectDetails>>',\n 'next? <<RequestForInstruction>>',\n 'put 2 slices on a clean plate <<Instruction>>',\n 'plate is on the brown shelf <<InformationOnObjectDetails>>',\n 'next? <<RequestForInstruction>>',\n 'done <<FeedbackPositive>>',\n 'hi <<Greetings/Salutations>>',\n 'what is the task? <<RequestForInstruction>>',\n 'u are making a salad <<Instruction>>',\n 'what do i do first? <<RequestForInstruction>>',\n 'make a slice of lettuce twice <<Instruction>>',\n 'done <<Acknowledge>>',\n 'cook a slice of potato with aknife <<Instruction>>',\n 'one slice <<Instruction>>',\n 'then cook the sliced potato <<Instruction>>',\n 'done <<Acknowledge>>',\n 'place all salad components on a plate <<Instruction>>',\n 'lettuce and potato <<Instruction>>',\n 'done <<Acknowledge>>',\n 'u are done <<Acknowledge>>',\n 'hi <<Greetings/Salutations>>',\n 'what shall i do today? <<RequestForInstruction>>',\n 'please cook a potato in the microwave <<Instruction>>',\n 'next? <<RequestForInstruction>>',\n 'please slice it and put 3 slices in clean bowl <<Instruction>>',\n 'bowl in fridge <<InformationOnObjectDetails>>',\n 'you sadly may have to cook another potato and cut it so you can get the tiny end piece to fit in bowl <<Instruction>>',\n 'donne <<Acknowledge>>',\n 'done <<Acknowledge>>',\n 'awesome. pleasant trails. we are done! <<FeedbackPositive>>',\n 'what shall i do today? <<RequestForInstruction>>',\n 'rinse the dirty clothe <<Instruction>>',\n 'the drawer where u stand <<InformationOnObjectDetails>>',\n 'the drawer under the sink <<InformationOnObjectDetails>>',\n 'to the left <<Instruction>>',\n 'done <<Acknowledge>>',\n 'great work <<FeedbackPositive>>',\n 'hi, tasks? <<Greetings/Salutations,RequestForInstruction>>',\n 'take out the bread from the shelf right above the wash basin <<Instruction,InformationOnObjectDetails>>',\n 'done <<Acknowledge>>',\n 'now take the knife from the drawer right below the lettuce <<Instruction,InformationOnObjectDetails>>',\n 'just beside the basin <<InformationOnObjectDetails>>',\n 'done <<Acknowledge>>',\n 'slice the bread <<Instruction>>',\n 'done <<Acknowledge>>',\n 'then toast it in the toaster <<Instruction>>',\n 'toaster is right beside the stove <<InformationOnObjectDetails>>',\n 'done <<Acknowledge>>',\n 'how many <<RequestOtherInfo>>',\n 'now place the toast onto a plate <<Instruction>>',\n 'where is the plate? <<RequestForObjectLocationAndOtherDetails>>',\n 'plate is in the drawer right below the tomato <<InformationOnObjectDetails>>',\n 'right side of oven <<InformationOnObjectDetails>>',\n 'left to lettuce <<InformationOnObjectDetails>>',\n 'the shelf right to the white one <<InformationOnObjectDetails>>',\n 'take out the plate <<Instruction>>',\n 'place the toast onto it <<Instruction>>',\n 'done, thank you!! <<Acknowledge,FeedbackPositive>>',\n 'done <<Acknowledge>>',\n 'hi <<Greetings/Salutations>>',\n 'hi <<Greetings/Salutations>>',\n 'what should i do? <<RequestForInstruction>>',\n 'lets make a salad <<Instruction>>',\n 'fisrt slice letuce <<Instruction>>',\n 'slice potato and cook 1 slice <<Instruction>>',\n 'done <<Acknowledge>>',\n 'where is the potatow <<RequestForObjectLocationAndOtherDetails>>',\n 'on the stool by the centre counter <<InformationOnObjectDetails>>',\n 'done <<Acknowledge>>',\n 'rinse the dirty plate <<Instruction>>',\n 'its on the centre isle <<InformationOnObjectDetails>>',\n 'remove the bottle <<Instruction>>',\n 'put 2 slices lettuce, 1 potato on the clean plate <<Instruction>>',\n 'done <<Acknowledge>>',\n 'done thanks <<Acknowledge,FeedbackPositive>>',\n 'what can i do today <<RequestForInstruction>>',\n 'lets make 2 slice of toast <<Instruction>>',\n 'make a slice of one lettuce <<Instruction>>',\n 'done <<Acknowledge>>',\n 'next <<RequestForInstruction>>',\n 'make a slice of  one tomato <<Instruction>>',\n 'all sanwich components need to be on plate <<Instruction>>',\n 'sone <<Acknowledge>>',\n 'done <<Acknowledge>>',\n 'next <<RequestForInstruction>>',\n 'goo job <<FeedbackPositive>>',\n 'what shall i do today? <<RequestForInstruction>>',\n 'the remote controls need to be put onto a table. <<Instruction>>',\n 'where is the remote? <<RequestForObjectLocationAndOtherDetails>>',\n 'it is on the couch. <<InformationOnObjectDetails>>',\n 'done <<Acknowledge>>',\n 'there is one more on the couch. <<InformationOnObjectDetails>>',\n 'done <<Acknowledge>>',\n 'bravo! <<FeedbackPositive>>',\n 'what can i do? <<RequestForInstruction>>',\n 'clean all mugs <<Instruction>>',\n 'mug on the chair by the table <<InformationOnObjectDetails>>',\n 'good job <<FeedbackPositive>>',\n 'hi <<Greetings/Salutations>>',\n 'hi <<Greetings/Salutations>>',\n 'what should i do today? <<RequestForInstruction>>',\n 'you need to clean all the  pots <<Instruction>>',\n 'the pot is on the stove <<InformationOnObjectDetails>>',\n 'ok <<Acknowledge>>',\n 'done <<Acknowledge>>',\n 'thank you <<FeedbackPositive>>',\n 'thank you <<FeedbackPositive>>',\n 'what should i do? <<RequestForInstruction>>',\n 'hi. could you make a salad? please start by slicing lettuce. <<Greetings/Salutations,Instruction>>',\n 'where is knife? <<RequestForObjectLocationAndOtherDetails>>',\n 'in the fridge <<InformationOnObjectDetails>>',\n 'next, slice a tomato. we will need 2 slices. <<Instruction>>',\n 'done <<Acknowledge>>',\n 'please place 2 slices tomato and 1 slice lettuce on a clean plate. <<Instruction>>',\n 'where is plate? <<RequestForObjectLocationAndOtherDetails>>',\n 'there is one on the table by the lettuce. <<InformationOnObjectDetails>>',\n 'all done. thanks <<Acknowledge,FeedbackPositive>>',\n 'done <<Acknowledge>>',\n 'what is my assignment? <<RequestForInstruction>>',\n 'please boil a potato in water <<Instruction>>',\n 'anything else? <<RequestMore>>',\n 'thank you <<FeedbackPositive>>',\n 'hji <<Greetings/Salutations>>',\n 'hi we have to make a salad <<Greetings/Salutations,Instruction>>',\n 'task plz <<RequestForInstruction>>',\n 'knife is by sink to right <<InformationOnObjectDetails>>',\n 'next <<RequestForInstruction>>',\n 'tomato is above microwave <<InformationOnObjectDetails>>',\n 'cabinet to right <<InformationOnObjectDetails>>',\n 'enxt <<RequestForInstruction>>',\n 'one slice tomato on plate <<Instruction>>',\n 'lettuce in fridge <<InformationOnObjectDetails>>',\n 'do i need to cook potato? <<RequestOtherInfo>>',\n 'no <<Deny>>',\n 'slices lettuce on plate <<Instruction>>',\n '2 slices <<Instruction>>',\n 'done? <<Acknowledge>>',\n 'yes good job <<Acknowledge,FeedbackPositive>>',\n 'thx u 2 <<Acknowledge>>',\n 'how may i help you today? <<RequestForInstruction>>',\n 'i need my plant watered <<Instruction>>',\n 'sure thing, i found a pot with water <<Acknowledge,Acknowledge>>',\n 'great, that will work <<FeedbackPositive,InformationOther>>',\n 'done <<Acknowledge>>',\n 'tanks <<FeedbackPositive>>',\n 'hi <<Greetings/Salutations>>',\n 'hello <<Greetings/Salutations>>',\n 'today you need to slice a tomato <<Instruction>>',\n \"what's our first task? <<RequestForInstruction>>\",\n 'tomato is in the fridge <<InformationOnObjectDetails>>',\n 'knife is also in the fridge <<InformationOnObjectDetails>>',\n \"i'll just use this one on the counter ) <<InformationOther>>\",\n 'done <<Acknowledge>>',\n 'clean a plate <<Instruction>>',\n 'plate is in the bottom cabinet under the coffee maker <<InformationOnObjectDetails>>',\n 'thank you <<Acknowledge>>',\n 'done <<Acknowledge>>',\n \"what's next? <<RequestMore>>\",\n 'place the tomato slice on the plate <<Instruction>>',\n 'just 1? <<RequestOtherInfo>>',\n 'yes <<Affirm>>',\n 'done <<Acknowledge>>',\n 'thank you <<Acknowledge>>',\n ') <<Acknowledge>>',\n 'great job <<FeedbackPositive>>',\n 'what should i do today? <<RequestForInstruction>>',\n 'pickup a knife and slice a tomato <<Instruction>>',\n 'could you find knife for me? <<RequestForObjectLocationAndOtherDetails>>',\n 'i can see tomato <<Acknowledge>>',\n 'there is a knife close to the stove <<InformationOnObjectDetails>>',\n 'sliced the tomato <<Acknowledge>>',\n 'now you need to slice the potato <<Instruction>>',\n 'sliced the potato <<Acknowledge>>',\n 'cook the potato now <<Instruction>>',\n 'what should i do next? <<RequestForInstruction>>',\n 'okay <<Acknowledge>>',\n 'how can i cook? <<RequestOtherInfo>>',\n 'there is a pan close to the microwave <<InformationOnObjectDetails>>',\n 'put the potato slices inside the pan and into the stove <<Instruction>>',\n 'cooked the potato <<Acknowledge>>',\n 'what should i do next? <<RequestForInstruction>>',\n 'turn on the stove <<Instruction>>',\n 'done <<Acknowledge>>',\n 'you need to cook two sliced potato <<Instruction>>',\n 'done <<Acknowledge>>',\n 'please reply fast <<RequestOtherInfo>>',\n 'put all salad component on a playe <<Instruction>>',\n 'plate* <<Instruction>>',\n 'what all should i put? <<RequestOtherInfo>>',\n 'tomato and que cooked potatoes <<Instruction>>',\n 'what is plate? <<RequestForObjectLocationAndOtherDetails>>',\n 'where is plate? <<RequestForObjectLocationAndOtherDetails>>',\n 'near the stove <<InformationOnObjectDetails>>',\n 'done <<Acknowledge>>',\n 'hi <<Greetings/Salutations>>',\n 'first task? <<RequestForInstruction>>',\n 'put all the remote controls on one chair <<Instruction>>',\n 'check the drawers under the tv <<Instruction>>',\n 'the remotes are in the box i just put on the couch <<Acknowledge>>',\n '2 <<Acknowledge>>',\n 'put on the chair near the dining table <<Instruction>>',\n 'there is one remote on the dining table chair already <<InformationOnObjectDetails>>',\n 'next <<RequestForInstruction>>',\n 'next <<RequestForInstruction>>',\n 'done thank you <<Acknowledge>>',\n 'cool <<MiscOther>>',\n 'what do i do first? <<RequestForInstruction>>',\n 'put all remote control on any chair <<Instruction>>',\n 'great work <<FeedbackPositive>>',\n 'how can i help? <<RequestForInstruction>>',\n 'can you prepare coffee in a clean mug <<Instruction>>',\n 'done <<Acknowledge>>',\n 'is that all? <<RequestForInstruction>>',\n 'thank you <<FeedbackPositive>>',\n 'please place the alarm clock on the bed <<Instruction>>',\n 'the alarm clock is in the bin in the corner of the room <<InformationOnObjectDetails>>',\n 'great thank you <<FeedbackPositive>>',\n 'how can i help <<RequestForInstruction>>',\n 'can you please make a slice of toast? <<Instruction>>',\n 'sure, where can i find a knife? <<Acknowledge,RequestForObjectLocationAndOtherDetails>>',\n 'the knife is close to the microwave <<InformationOnObjectDetails>>',\n 'i have toasted the bread <<Acknowledge>>',\n 'you can use the plate close to the bread for the toasted slice <<Instruction>>',\n 'toast is on the plate <<Acknowledge>>',\n 'that was everything, thank you! <<FeedbackPositive>>',\n 'there are 2 plates that needs to be clean <<Instruction>>',\n 'one is in the fridge <<InformationOnObjectDetails>>',\n 'one in the top unit by the sink <<InformationOnObjectDetails>>',\n 'sure <<Acknowledge>>',\n 'done <<Acknowledge>>',\n 'hi <<Greetings/Salutations>>',\n 'what is my task? <<RequestForInstruction>>',\n 'hello? <<Greetings/Salutations>>',\n 'we need to clean the plate <<Instruction>>',\n 'dirty plate is on the chair near middle table <<InformationOnObjectDetails>>',\n 'done <<Acknowledge>>',\n 'pan <<InformationOnObjectDetails>>',\n 'now we need too clean pan <<Instruction>>',\n 'pan is on middle table <<InformationOnObjectDetails>>',\n 'this one is clean <<Acknowledge>>',\n 'done <<Acknowledge>>',\n 'hi, what are my directions? <<RequestForInstruction>>',\n 'i need you to slice some lettuce on a plate for me <<Instruction>>',\n 'there should be a plate in the cupboard below the  lettuce <<InformationOnObjectDetails>>',\n 'the clean plate should be in the cupboard below where you cut the lettuce <<InformationOnObjectDetails>>',\n 'on the left side <<InformationOnObjectDetails>>',\n 'please could you put the lettuce on that plate for me <<Instruction>>',\n 'done <<Acknowledge>>',\n 'that is everything, thank you <<FeedbackPositive>>',\n 'what should  i do today? <<RequestForInstruction>>',\n 'hello, its a long one <<Greetings/Salutations>>',\n 'start with a cup of cofffee <<Instruction>>',\n 'cool. make a plate with one piece of toast <<FeedbackPositive,Instruction>>',\n 'i have made coffee what next? <<Acknowledge,RequestMore>>',\n 'bread in cabinet next to recycle bin <<InformationOnObjectDetails>>',\n 'behind you <<InformationOnObjectDetails>>',\n 'where is the knife? <<RequestForObjectLocationAndOtherDetails>>',\n 'cabinet under micro <<InformationOnObjectDetails>>',\n 'i have made a toast slice <<Acknowledge>>',\n \"what's next? <<RequestMore>>\",\n 'great work. now cook 2 slices of potato and put on plate <<FeedbackPositive,Instruction>>',\n 'fyi for future reference if you cook potato in microwave before slicing it all your slices will be cooked already. <<InformationOther>>',\n 'your doing awesome, just a tip i learned <<FeedbackPositive>>',\n 'potato cooked <<Acknowledge>>',\n 'will need slice of apple too <<Instruction>>',\n 'apple is sliced. next <<Acknowledge,RequestMore>>',\n 'now just the toast on the plate <<Instruction>>',\n 'perfect. thanks for making that long one go so fast! <<FeedbackPositive>>',\n 'hi <<Greetings/Salutations>>',\n \"hello! today, we'll be cleaning the cloths in the bathroom. <<Greetings/Salutations,Instruction>>\",\n 'what should  i do today <<RequestForInstruction>>',\n \"you'll need to rinse the dirty cloths with water. <<Instruction>>\",\n 'ok <<Acknowledge>>',\n 'done <<Acknowledge>>',\n 'excellent! that was the task. have a great day! <<FeedbackPositive,Acknowledge,FeedbackPositive>>',\n 'hi, what can i do for you? <<Greetings/Salutations,RequestForInstruction>>',\n 'could you boil a potato please? <<Instruction>>',\n 'sure <<Acknowledge>>',\n 'where is the potato? <<RequestForObjectLocationAndOtherDetails>>',\n 'there is a potato in the fridge <<InformationOnObjectDetails>>',\n 'thank you! <<FeedbackPositive>>',\n 'could you please put the lettuce in the fridge <<Instruction>>',\n 'this is in the cabinet above the fridge <<InformationOnObjectDetails>>',\n 'sure <<Acknowledge>>',\n \"it won't let me place it in the fridge <<NotifyFailure>>\",\n 'please try and remove some items <<Instruction>>',\n 'done <<Acknowledge>>',\n 'thank you <<FeedbackPositive>>',\n 'hi <<Greetings/Salutations>>',\n 'what is my task today? <<RequestForInstruction>>',\n 'hey make a sandwich please <<Greetings/Salutations,Instruction>>',\n 'whats the first step? <<RequestForInstruction>>',\n 'get bread from next to the sink and slice it <<Instruction>>',\n 'the knife is on the same counter <<InformationOnObjectDetails>>',\n 'done <<Acknowledge>>',\n 'then toast two slices of bread,one at  time <<Instruction>>',\n 'done <<Acknowledge>>',\n 'get lettuce from the kitchen counter and slice it <<Instruction>>',\n 'andslice the tomato right next to it too <<Instruction>>',\n 'it is an apple <<InformationOther>>',\n 'sorry there is a tomato next to the stove <<InformationOnObjectDetails>>',\n 'done <<Acknowledge>>',\n 'then get a plate from the fridge and put all the sandwich components inside it <<Instruction>>',\n 'two slices of bread and a single slice of each of the rest <<Instruction>>',\n 'done <<Acknowledge>>',\n 'good job <<FeedbackPositive>>',\n 'first, you need to rinse the mug with water <<Instruction>>',\n 'hello, please direct me <<Greetings/Salutations,RequestForInstruction>>',\n 'find the mug and rinse it with water <<Instruction>>',\n \"i'm looking for it too <<MiscOther>>\",\n 'could it be in a cabinet? <<Confirm>>',\n 'ooh maybe <<Affirm>>',\n 'is that it by the microwave? <<InformationOnObjectDetails>>',\n 'yes <<Affirm>>',\n 'ok, now take it to the sink and rinse it out with water <<Instruction>>',\n 'i havent found the mug yet <<Acknowledge>>',\n \"i just realized there's a search function, it's telling me the mug is in the fridge <<OtherInterfaceComment,InformationOnObjectDetails>>\",\n 'great now we need to put coffee in it <<Instruction>>',\n 'ok <<Acknowledge>>',\n 'hello <<Greetings/Salutations>>',\n 'hi <<Greetings/Salutations>>',\n 'task please <<RequestForInstruction>>',\n 'lets make some breakfast <<Instruction>>',\n 'first lets clean a mug <<Instruction>>',\n 'where is the mug? <<RequestForObjectLocationAndOtherDetails>>',\n 'there is a mug on the table <<InformationOnObjectDetails>>',\n 'the square table by the window <<InformationOnObjectDetails>>',\n 'mug is clean, should i make coffee? <<AlternateQuestions>>',\n 'yes lets make some coffee <<Affirm,Instruction>>',\n 'does not pour coffee, did it complete? <<Confirm>>',\n 'lets make another cup of coffee <<Instruction>>',\n 'where is another mug? <<RequestForObjectLocationAndOtherDetails>>',\n 'there is one in the fridge <<InformationOnObjectDetails>>',\n 'near the door <<InformationOnObjectDetails>>',\n 'done <<Acknowledge>>',\n 'perfect <<FeedbackPositive>>',\n 'next please <<RequestMore>>',\n 'okay lets cut two slices of apple <<Instruction>>',\n 'where is the apple> <<RequestForObjectLocationAndOtherDetails>>',\n 'lets check under the sink in the cabinet <<InformationOnObjectDetails>>',\n 'yes lets slice that one <<Instruction>>',\n 'apple is sliced, should i put it on a plate? <<Confirm>>',\n 'lets put two of those slices on a plate <<Instruction>>',\n 'done <<Acknowledge>>',\n 'next please? <<RequestMore>>',\n 'i think each slice needs to be on a separate plate <<Instruction>>',\n 'done <<Acknowledge>>',\n 'great job <<FeedbackPositive>>',\n 'now lets bring the coffee to the table <<Instruction>>',\n 'thanks, you too. <<MiscOther>>',\n 'done? <<Confirm>>',\n 'both mugs <<Instruction>>',\n 'you did fantastic. thank you <<FeedbackPositive>>',\n \"we're finished <<Acknowledge>>\",\n 'sweet, have a nice day <<MiscOther>>',\n 'you too <<MiscOther>>',\n 'thank you <<FeedbackPositive>>',\n 'slice lettuce <<Instruction>>',\n 'knife is in microwave <<InformationOnObjectDetails>>',\n 'slice potato and cook 2 slices <<Instruction>>',\n 'potato is on left of fridge beside bin <<InformationOnObjectDetails>>',\n 'white bin <<InformationOnObjectDetails>>',\n 'plate is beside microwave <<InformationOnObjectDetails>>',\n 'place all components on plate <<Instruction>>',\n 'what should we do today <<RequestForInstruction>>',\n 'place the newspapers onto a single table <<Instruction>>',\n 'there is one on the couch <<InformationOnObjectDetails>>',\n 'sorry, its taking long to load commands guess its a glitch <<NotifyFailure,OtherInterfaceComment>>',\n 'place it on the white table <<Instruction>>',\n 'done <<Acknowledge>>',\n 'get the newspaper on the couch and place it there <<Instruction>>',\n 'done <<Acknowledge>>',\n 'now get the other one that is on the tv stand <<InformationOnObjectDetails>>',\n 'done <<Acknowledge>>',\n 'how can i help? <<RequestForInstruction>>',\n \"i'd like my plant watered <<Instruction>>\",\n 'sure <<Acknowledge>>',\n 'done <<Acknowledge>>',\n 'thanks <<FeedbackPositive>>',\n 'hi, how may i assist you today? <<Greetings/Salutations,RequestForInstruction>>',\n 'could yu rinse a cloth for me please <<Instruction>>',\n \"i'll get right to it <<Acknowledge>>\",\n 'mighty kind of you <<Acknowledge>>',\n 'apologise is should have specified which one to clean, there is a cloth underneath the green towel in the corner of the room next to the window <<InformationOther,InformationOnObjectDetails>>',\n 'very sorry <<Acknowledge>>',\n 'no problem, thank you for the clarification <<Acknowledge>>',\n 'your cloth is now clean <<Acknowledge>>',\n 'clean the plate in the fridge <<Instruction>>',\n 'rinse with water <<Instruction>>',\n 'okay <<Acknowledge>>',\n 'rinse with water <<Instruction>>',\n 'hellooo <<Greetings/Salutations>>',\n 'am holding a plate already <<Acknowledge>>',\n 'and am headed to the sink please <<Acknowledge>>',\n 'ok <<Acknowledge>>',\n 'the plate is clean <<Acknowledge>>',\n 'what else can i do? <<RequestMore>>',\n 'thats it <<Acknowledge>>',\n 'rinse the plate <<Instruction>>',\n 'the plate is laready rinsed. <<Acknowledge>>',\n 'glitcj <<OtherInterfaceComment>>',\n 'refresh the page <<OtherInterfaceComment>>',\n 'another plate <<Instruction>>',\n 'top cabinet <<InformationOnObjectDetails>>',\n 'near sink <<InformationOnObjectDetails>>',\n 'top of the sink <<InformationOnObjectDetails>>',\n 'have you tried to refresh your page? <<Confirm>>',\n 'open the cabinet <<InformationOnObjectDetails>>',\n 'yes <<Affirm>>',\n 'must be another plate in that cabinet <<InformationOnObjectDetails>>',\n 'left <<InformationOnObjectDetails>>',\n 'open the left cabinet <<InformationOnObjectDetails>>',\n 'okay <<Acknowledge>>',\n 'just to[ of the sink <<InformationOnObjectDetails>>',\n 'yes <<Affirm>>',\n 'clean that plate <<Instruction>>',\n 'hi <<Greetings/Salutations>>',\n 'whats the task? <<RequestForInstruction>>',\n 'hello, your task is to serve 1 slice of tomato on a clean plate please. <<Greetings/Salutations,Instruction>>',\n 'tomato are by the sink <<InformationOnObjectDetails>>',\n 'there is a knife there as well <<InformationOnObjectDetails>>',\n 'where is the plate? <<RequestForObjectLocationAndOtherDetails>>',\n 'there is a plate in the cabinet under the taoster <<InformationOnObjectDetails>>',\n 'cabinet has a black door <<InformationOnObjectDetails>>',\n 'done <<Acknowledge>>',\n 'great job, task is complete. <<FeedbackPositive>>',\n 'hello. what is my first task? <<Greetings/Salutations,RequestForInstruction>>',\n 'put  a mug into a cabinet <<Instruction>>',\n 'great. where do i find the mug? <<RequestForObjectLocationAndOtherDetails>>',\n 'there is one on the cabinet above the coffee machine <<InformationOnObjectDetails>>',\n 'does it specify which cabinet? <<RequestOtherInfo>>',\n 'to place the mug in <<Instruction>>',\n 'pick that mug from that cabinet and place it inside the big cabinet to the right of the sink <<Instruction>>',\n 'the one above that one <<InformationOnObjectDetails>>',\n 'that one <<InformationOnObjectDetails>>',\n 'good job <<FeedbackPositive>>',\n 'hi <<Greetings/Salutations>>',\n 'hello <<Greetings/Salutations>>',\n 'what is my task? <<RequestForInstruction>>',\n 'boil potato by cooking it in water <<Instruction>>',\n 'potato is on the dinning table <<InformationOnObjectDetails>>',\n 'pot is on the stove <<InformationOnObjectDetails>>',\n 'first fill the pot with water <<Instruction>>',\n 'remove the tomato from it <<Instruction>>',\n 'good job <<FeedbackPositive>>',\n 'done <<Acknowledge>>',\n 'hello, what is my task? <<Greetings/Salutations,RequestForInstruction>>',\n 'hi. we will need to clean all the tableware today <<Greetings/Salutations,Instruction>>',\n 'we can start with the mug <<InformationOther>>',\n 'mug is clean <<Acknowledge>>',\n 'there is a mug on the counter near the paper towel roll <<InformationOnObjectDetails>>',\n 'yes. i just cleaned that one. <<Acknowledge>>',\n 'sorry now, there is an item on the black stool <<InformationOnObjectDetails>>',\n 'looks like a plate <<InformationOther>>',\n 'maybe bowl <<InformationOther>>',\n \"there's actually another mug on the counter near the plant too <<InformationOnObjectDetails>>\",\n 'and roll of paper towels <<InformationOnObjectDetails>>',\n 'the paper towels need to be cleaned? <<RequestOtherInfo>>',\n 'there are three more items to clean. including the mug near the plant <<InformationOnObjectDetails>>',\n 'i meant the mug is near the other roll of paper towels <<InformationOnObjectDetails>>',\n 'if you turn directly around <<InformationOther>>',\n 'ok <<Acknowledge>>',\n 'it needs to be cleaned <<Instruction>>',\n 'there is another one in the refrigerator <<InformationOnObjectDetails>>',\n 'another tableware item, not sure what exactly <<InformationOther>>',\n 'perfect! last one, check in the cabinet that is above the toaster and to the left <<FeedbackPositive,InformationOnObjectDetails>>',\n 'thanks! <<FeedbackPositive>>',\n 'sorry, the toaster not microwave <<InformationOther>>',\n 'by the coffee maker <<InformationOnObjectDetails>>',\n 'okay <<Acknowledge>>',\n 'one more to the left <<InformationOnObjectDetails>>',\n 'yes! <<Affirm>>',\n 'nice work! thanks <<FeedbackPositive>>',\n 'open cabinet closest to toilet <<Instruction>>',\n 'what should i do today <<RequestForInstruction>>',\n 'what should i do today <<RequestForInstruction>>',\n 'open cabinet closest to toilet <<Instruction>>',\n 'to your right <<InformationOnObjectDetails>>',\n 'turn back toward sinks <<InformationOnObjectDetails>>',\n 'first cabinet there <<InformationOnObjectDetails>>',\n 'on bottom <<InformationOnObjectDetails>>',\n 'get cloth <<Instruction>>',\n 'put in in sink and rinse with water <<InformationOnObjectDetails>>',\n \"that's it good job <<Acknowledge,FeedbackPositive>>\",\n 'how can i help you? <<RequestForInstruction>>',\n 'hello!  could you please cook 2 pieces of potato for me? <<Instruction>>',\n 'sure thing <<Acknowledge>>',\n 'the potato slices should be put on a clean plate <<Instruction>>',\n 'ok <<Acknowledge>>',\n 'the plate should be in the right cabinet underneath the sink <<InformationOnObjectDetails>>',\n 'all set? <<RequestForInstruction>>',\n 'yes, thank you! <<Affirm,FeedbackPositive>>',\n 'hey <<Greetings/Salutations>>',\n 'what should i do today? <<RequestForInstruction>>',\n 'cook 2 slices of potato <<Instruction>>',\n 'potato is on chair <<InformationOnObjectDetails>>',\n \"where's the potato? <<RequestForObjectLocationAndOtherDetails>>\",\n 'just the potato <<InformationOnObjectDetails>>',\n 'where is the knife? <<RequestForObjectLocationAndOtherDetails>>',\n 'slic e 2 slices <<Instruction>>',\n 'knife is in the sink <<InformationOnObjectDetails>>',\n 'done <<Acknowledge>>',\n 'place them on a plate <<Instruction>>',\n \"where's the plate? <<RequestForObjectLocationAndOtherDetails>>\",\n 'in the lower counter <<InformationOnObjectDetails>>',\n 'where the sink is <<InformationOnObjectDetails>>',\n 'which cabinet? <<RequestForObjectLocationAndOtherDetails>>',\n 'go on <<Instruction>>',\n 'turn right <<Instruction>>',\n 'no plate there, just a bowl <<NotifyFailure>>',\n 'open the last drawer <<Instruction>>',\n 'good <<FeedbackPositive>>',\n 'hi <<Greetings/Salutations>>',\n 'how may i help you? <<RequestForInstruction>>',\n 'get the remote on the tv stand and place it on the center furniture <<Instruction>>',\n 'where the laptop is <<Instruction>>',\n 'ok <<Affirm>>',\n 'no <<Deny>>',\n 'done <<Acknowledge>>',\n 'center furniture <<Instruction>>',\n 'do the same with the remote on the white box on the table <<Instruction>>',\n 'cant see that remore <<RequestForObjectLocationAndOtherDetails>>',\n 'remote <<RequestForObjectLocationAndOtherDetails>>',\n 'inside the white box <<InformationOnObjectDetails>>',\n 'on the table <<InformationOnObjectDetails>>',\n 'done <<Acknowledge>>',\n 'hi <<Greetings/Salutations>>',\n 'what should i do <<RequestForInstruction>>',\n 'slice the bread <<Instruction>>',\n 'knife is next to the microwave <<InformationOnObjectDetails>>',\n 'bread is on the countertop <<InformationOnObjectDetails>>',\n 'already sliced <<Acknowledge>>',\n 'next <<RequestForInstruction>>',\n 'toast 1 slice <<Instruction>>',\n 'serve on a lean plte <<Instruction>>',\n 'plte <<Instruction>>',\n 'plate <<Instruction>>',\n 'serve on th e plate on the left side of cooker <<Instruction>>',\n 'done <<Acknowledge>>',\n 'good job <<FeedbackPositive>>',\n 'what shall i do today? <<RequestForInstruction>>',\n 'hi <<Greetings/Salutations>>',\n 'slice the lettuce twice <<Instruction>>',\n 'hello <<Greetings/Salutations>>',\n 'where is lettuce? <<RequestForObjectLocationAndOtherDetails>>',\n 'is on the chair <<InformationOnObjectDetails>>',\n 'knife is in the fridge <<InformationOnObjectDetails>>',\n 'done <<Acknowledge>>',\n 'now slice a potato and a tomato <<Instruction>>',\n 'next? <<RequestForInstruction>>',\n 'tomato is on the counter and potato on the table <<InformationOnObjectDetails>>',\n 'next? <<RequestForInstruction>>',\n 'now cook the potato slice <<Instruction>>',\n 'it is alreay slice <<Acknowledge>>',\n 'sliced* <<Acknowledge>>',\n 'that slice is too big <<InformationOther>>',\n 'is there any other potato? <<RequestOtherInfo>>',\n 'drop it and get another <<InformationOther>>',\n \"you can't slice twice <<InformationOther>>\",\n 'the other slices are too far to pick <<InformationOther>>',\n 'oven is full to place any other object <<InformationOther>>',\n \"but i couldn't take out any <<NotifyFailure>>\",\n 'turn on the burner <<Instruction>>',\n 'place everything on a plate on the table <<Instruction>>',\n 'where si the plate? <<RequestForObjectLocationAndOtherDetails>>',\n 'where is the plate? <<RequestForObjectLocationAndOtherDetails>>',\n 'on the table <<InformationOnObjectDetails>>',\n 'white plate <<InformationOnObjectDetails>>',\n 'behind the apple <<InformationOnObjectDetails>>',\n 'two slices of lettuce <<Instruction>>',\n 'done <<Acknowledge>>',\n 'hello <<Greetings/Salutations>>',\n 'what do i do first? <<RequestForInstruction>>',\n 'lets make a sandwich <<Instruction>>',\n 'ok <<Acknowledge>>',\n 'first we toast two slices of bread <<Instruction>>',\n 'knife is on the stool <<InformationOnObjectDetails>>',\n 'bread is in the top drawer next to the stove <<InformationOnObjectDetails>>',\n 'place knife on the table then get bread top right drawer next to stove <<Instruction>>',\n 'well done <<FeedbackPositive>>',\n 'polease hurry <<MiscOther>>',\n 'chill its a delay dont rush <<MiscOther>>',\n 'just give direction <<MiscOther>>',\n 'okay my bad <<Acknowledge>>',\n 'howw many <<RequestOtherInfo>>',\n 'two slices <<InformationOther>>',\n 'awesome, next we will be slicing tomato <<FeedbackPositive,Instruction>>',\n 'tomato is on the shelf <<InformationOnObjectDetails>>',\n 'well done <<FeedbackPositive>>',\n 'next <<RequestMore>>',\n 'now move all sandwich components on a plate <<Instruction>>',\n 'next <<RequestMore>>',\n 'hello. what is my first task? <<Greetings/Salutations,RequestForInstruction>>',\n 'hi <<Greetings/Salutations>>',\n 'slice lettuce <<Instruction>>',\n 'ok <<Acknowledge>>',\n 'lettuce sliced. next? <<Acknowledge,RequestForInstruction>>',\n 'cook potato <<Instruction>>',\n 'you can microwave it then slice <<Instruction>>',\n 'potato location, please? <<RequestForObjectLocationAndOtherDetails>>',\n 'potato is in the fridge <<InformationOnObjectDetails>>',\n 'thank you <<Acknowledge>>',\n 'thank you. <<Acknowledge>>',\n 'slice it now <<Instruction>>',\n \"there's a knife on the sink <<InformationOnObjectDetails>>\",\n 'good <<FeedbackPositive>>',\n 'potato cooked and sliced. next? <<Acknowledge,RequestForInstruction>>',\n 'place 2 slices of lettuce and a slice of potato on a plate <<Instruction>>',\n \"there's a plate in the cabinet on top of the microwave <<InformationOnObjectDetails>>\",\n 'completed <<Acknowledge>>',\n 'items placed on plate. <<Acknowledge>>',\n 'good job <<FeedbackPositive>>',\n 'what shall i do today? <<RequestForInstruction>>',\n 'clean all the cups <<Instruction>>',\n 'one is on the central table <<InformationOnObjectDetails>>',\n 'there is also another one in the cabinet above the coffeee-making machine. <<InformationOnObjectDetails>>',\n 'good job <<FeedbackPositive>>',\n 'thanks <<Acknowledge>>',\n 'what would you like me to do? <<RequestForInstruction>>',\n 'we need to place the remotes on the armchair <<Instruction>>',\n 'where is the remote? <<RequestForObjectLocationAndOtherDetails>>',\n 'there is one in the box on the shelf <<InformationOnObjectDetails>>',\n 'place the remote on armchair <<Instruction>>',\n 'you might need to set the box down and pick up the remote to put on the armchair? <<Instruction>>',\n 'i am unable to pickup the remote <<NotifyFailure>>',\n 'can you place the box on the chair? <<Instruction>>',\n 'or maybe can you set the box on the floor and remove the remote? <<Instruction>>',\n 'or remove the pen from the chair to place the box? <<Instruction>>',\n '(but two remotes will need to fit on the chair) <<Instruction>>',\n 'good job! <<FeedbackPositive>>',\n 'thank you. what next? <<Acknowledge,RequestForInstruction>>',\n 'the other remote needs to go on the chair <<Instruction>>',\n 'can you place the box on another surface to remove the remote from it? <<Instruction>>',\n 'nice work. finished! <<FeedbackPositive>>',\n 'whats the first task? <<RequestForInstruction>>',\n 'we are going to clean dishwares <<Instruction>>',\n 'ok whats dish is first? <<Acknowledge,RequestOtherInfo>>',\n 'dish on counter next to plant <<InformationOnObjectDetails>>',\n 'right of sink <<InformationOnObjectDetails>>',\n 'that is all good job <<Acknowledge,FeedbackPositive>>',\n 'what should i do? <<RequestForInstruction>>',\n 'make salad please <<Instruction>>',\n 'slice tomatoe <<Instruction>>',\n 'knife is in the fridge and tomatoe next to microwave <<InformationOnObjectDetails>>',\n 'where is tomatoo <<RequestForObjectLocationAndOtherDetails>>',\n \"to the left of microwave' <<InformationOnObjectDetails>>\",\n 'it is apple <<Acknowledge>>',\n 'not potato <<Acknowledge>>',\n 'not tomatoo <<Acknowledge>>',\n 'tomatoe is in the draw below the  cooking pan on the counter top <<InformationOnObjectDetails>>',\n 'also you can check the cabinet right on top of the apple you cut <<Instruction>>',\n 'done <<Acknowledge>>',\n 'make 2 slices of potato and cook in the microwave <<Instruction>>',\n 'where is potato <<RequestForObjectLocationAndOtherDetails>>',\n 'in the sink <<InformationOnObjectDetails>>',\n 'done <<Acknowledge>>',\n 'put everything on a clean plate that is on the counter top next to the frying pan <<Instruction>>',\n 'one more...great work <<InformationOther,FeedbackPositive>>',\n 'done...great <<Acknowledge>>',\n 'done <<Acknowledge>>',\n 'hello, what should i do today? <<RequestForInstruction>>',\n 'place 2 newspapers onto single chair <<Instruction>>',\n 'where are the newspapers? <<RequestForObjectLocationAndOtherDetails>>',\n 'behind tv <<InformationOnObjectDetails>>',\n 'another one on dining table <<InformationOnObjectDetails>>',\n 'does it matter which chair? <<RequestOtherInfo>>',\n 'table or living room? <<RequestOtherInfo>>',\n 'where is the second newspaper? <<RequestForObjectLocationAndOtherDetails>>',\n 'dining table <<InformationOnObjectDetails>>',\n \"okay, what's next? <<RequestForInstruction>>\",\n 'done <<FeedbackPositive>>',\n 'hi how can i help <<RequestForInstruction>>',\n 'hi can you make me a plate of toast <<Instruction>>',\n 'bread is on the table <<InformationOnObjectDetails>>',\n 'there is a knife also there and the plate needs cleaning <<InformationOnObjectDetails>>',\n 'was that all <<Confirm>>',\n 'yes thanks <<Affirm,FeedbackPositive>>',\n 'hello, what shall i  do? <<Greetings/Salutations,RequestForInstruction>>',\n 'please put all the small handheld objects on 1 table. <<Instruction>>',\n 'it looks like 8 of them. <<InformationOther>>',\n 'there is something small behind the tv <<InformationOther>>',\n 'all three items on the white couch <<InformationOnObjectDetails>>',\n 'are there anymore items? <<RequestOtherInfo>>',\n 'last item is the book on the coffee table <<InformationOther>>',\n 'hello, task plz <<Greetings/Salutations,RequestForInstruction>>',\n 'hi <<Greetings/Salutations>>',\n 'prepare a coffee in a clean mug <<Instruction>>',\n 'where is mug plz <<RequestForObjectLocationAndOtherDetails>>',\n 'got it <<Acknowledge>>',\n 'coffee done <<Acknowledge>>',\n 'done thankyou <<FeedbackPositive>>',\n 'hello. what should i do today? <<Greetings/Salutations,RequestForInstruction>>',\n 'put the remote control that is on the table on a chair <<Instruction>>',\n 'is there a specific chair? <<RequestOtherInfo>>',\n 'do the same with the remote inside the box next to the black side table <<Instruction>>',\n 'please can you put the remote on teh side table? <<Instruction>>',\n 'it is on the chair <<InformationOnObjectDetails>>',\n 'where can i find the remote? <<RequestForObjectLocationAndOtherDetails>>',\n 'the white chair <<InformationOnObjectDetails>>',\n 'by the desk next to the laptop <<InformationOnObjectDetails>>',\n 'i have put the remote on the coffee table <<Acknowledge>>',\n 'please put it on either the small round table with the plant <<Instruction>>',\n 'what else can i help with? <<RequestMore>>',\n 'or the site table next to teh desk <<InformationOnObjectDetails>>',\n 'done <<Acknowledge>>',\n 'i placed it on the side table <<Acknowledge>>',\n 'how can i help? <<RequestForInstruction>>',\n \"let's water the plant <<Instruction>>\",\n 'sure <<Acknowledge>>',\n 'hows that? <<RequestMore>>',\n 'perfect <<FeedbackPositive>>',\n 'thank you very much <<FeedbackPositive>>',\n 'hello <<Greetings/Salutations>>',\n 'hi, how are you? what would you like me to do today? <<RequestForInstruction>>',\n 'put the tissue box on the table <<Instruction>>',\n 'tissue box to your left <<InformationOnObjectDetails>>',\n 'okay, let me look. <<Acknowledge>>',\n 'check the below shelf <<InformationOnObjectDetails>>',\n 'no <<Deny>>',\n 'dont move <<Instruction>>',\n 'okay i see it. <<Acknowledge>>',\n 'your earlier position was just fine to find the box <<InformationOnObjectDetails>>',\n 'place it on the table <<Instruction>>',\n 'sorry about that. i picked it up. <<Acknowledge>>',\n 'okay which table should i place it on? <<RequestForObjectLocationAndOtherDetails>>',\n 'to your extreme right corner <<InformationOnObjectDetails>>',\n 'place on that table <<Instruction>>',\n 'the round table? <<RequestForObjectLocationAndOtherDetails>>',\n 'the table with chairs <<InformationOnObjectDetails>>',\n 'yes <<Affirm>>',\n 'done, thank you!! <<FeedbackPositive>>',\n 'what shall i do today? <<RequestForInstruction>>',\n 'please slice the tomato on the table <<Instruction>>',\n 'knife is in the fridge <<InformationOnObjectDetails>>',\n 'next? <<RequestForInstruction>>',\n 'put one slice on the plate <<Instruction>>',\n 'plate is on this table <<InformationOnObjectDetails>>',\n 'hello, boil the potato <<Greetings/Salutations,Instruction>>',\n 'where is the potato <<RequestForObjectLocationAndOtherDetails>>',\n 'in the microwave <<InformationOnObjectDetails>>',\n 'where is the pot <<RequestForObjectLocationAndOtherDetails>>',\n 'for boiling <<RequestForObjectLocationAndOtherDetails>>',\n 'in the fridge <<InformationOnObjectDetails>>',\n 'boiling <<Acknowledge>>',\n 'done <<FeedbackPositive>>',\n 'hello, what is my task <<RequestForInstruction>>',\n 'hi please put all small handheld objects on one table <<Instruction>>',\n 'object is on table <<InformationOnObjectDetails>>',\n 'done? <<Acknowledge>>',\n 'there is one object on the brown coffee table <<Instruction>>',\n 'needs to be put on same yable as other <<Instruction>>',\n 'done <<Acknowledge>>',\n 'there is also a remote on the brown table that needs to be oicked up too <<Instruction>>',\n 'clean all the pots <<Instruction>>',\n 'sure <<Acknowledge>>',\n 'one pot is in fridge <<InformationOnObjectDetails>>',\n 'one is beside the bread <<InformationOnObjectDetails>>',\n 'thanks ) <<Acknowledge>>',\n 'good <<FeedbackPositive>>',\n \": ) what's next? <<RequestForInstruction>>\",\n 'clean the pot next to bread <<Instruction,InformationOnObjectDetails>>',\n 'where is the bread <<RequestForObjectLocationAndOtherDetails>>',\n 'i see it <<Acknowledge>>',\n 'ok <<Acknowledge>>',\n 'done <<Acknowledge>>',\n 'clean the bowl which is right to bread <<Instruction,InformationOnObjectDetails>>',\n 'no bowl here <<NotifyFailure>>',\n 'sorry <<Acknowledge>>',\n 'pot <<Instruction>>',\n 'not bowl <<Instruction>>',\n 'clean the pot which is right side to the bread <<Instruction,InformationOnObjectDetails>>',\n 'this one? <<RequestOtherInfo>>',\n 'yes <<Affirm>>',\n 'done <<Acknowledge>>',\n \"what's next? <<RequestForInstruction>>\",\n 'you cleaned all the pots? <<Confirm>>',\n 'yep all 3 here on the conter with the 1 bowl <<Acknowledge>>',\n 'i can reclean the other 2, too if neccessary... <<RequestForInstruction>>',\n 'please clean the pot which is right to bread near to tree <<Instruction,InformationOnObjectDetails>>',\n 'yes <<Affirm>>',\n 'this one. i cleaned it twice. or the other one? <<Acknowledge,AlternateQuestions>>',\n 'clean that <<Instruction>>',\n 'k <<Acknowledge>>',\n 'done <<Acknowledge>>',\n 'search for another pot <<Instruction>>',\n 'its not finish <<Instruction>>',\n 'there are 4 instead of 3? <<RequestOtherInfo>>',\n 'yes <<Affirm>>',\n 'done <<Acknowledge>>',\n 'good job <<FeedbackPositive>>',\n 'hi how can i help? <<Greetings/Salutations,RequestForInstruction>>',\n 'please could you prepare a coffee in a clean mug for me <<Instruction>>',\n 'is that okay? <<Confirm>>',\n 'yes great thanks <<Affirm,FeedbackPositive>>',\n 'hello <<Greetings/Salutations>>',\n 'what can i do today <<RequestForInstruction>>',\n 'please make 2 cups coffee <<Instruction>>',\n 'done <<Acknowledge>>',\n 'next <<RequestForInstruction>>',\n 'put on plate <<Instruction>>',\n 'put toast on plate <<Instruction>>',\n '2 pieces plz <<Instruction>>',\n 'where can i get a knife please <<RequestForObjectLocationAndOtherDetails>>',\n 'in upper cabinet over <<InformationOnObjectDetails>>',\n 'think that is mic <<InformationOnObjectDetails>>',\n 'microwave <<InformationOnObjectDetails>>',\n 'going to need plate by microwave too, put one piece of toast on it and then one piece on the plate on table, then put coffee mugs on table too <<Instruction>>',\n 'plate by toaster sorry <<Instruction>>',\n 'done <<Acknowledge>>',\n 'next <<RequestForInstruction>>',\n 'now just put the 2 coffee mugs and 2 plates of toast on the breakfast table <<Instruction>>',\n 'done <<Acknowledge>>',\n 'aweesome <<FeedbackPositive>>',\n 'how can i help <<RequestForInstruction>>',\n 'we need to put the alarm clock on the bed <<Instruction>>',\n 'where can i find the alarm clock <<RequestForObjectLocationAndOtherDetails>>',\n 'there will be on next to the lamp on the beside <<InformationOnObjectDetails>>',\n 'i found some more alarm clocks and placed them on the bed <<Acknowledge>>',\n 'are there any more? <<RequestMore>>',\n 'the last one is in the right draws below the laptop <<InformationOnObjectDetails>>',\n 'the right draws <<InformationOnObjectDetails>>',\n 'they are all done <<Acknowledge>>',\n 'is that everything <<Confirm>>',\n 'thank you <<FeedbackPositive>>',\n 'hi, how can i help today? <<Greetings/Salutations,RequestForInstruction>>',\n 'i need you to put my 3 remotes onto the sofa <<Instruction>>',\n 'on it! <<Acknowledge>>',\n 'one is under the tv and the other on the table <<InformationOnObjectDetails>>',\n 'all remotes are on the sofa <<Acknowledge>>',\n ',could you try and move the remote that is furthest back <<Instruction>>',\n 'thank you that is much better <<FeedbackPositive>>',\n \"you're welcome <<Acknowledge>>\",\n 'hi we are making a salad <<Greetings/Salutations,Instruction>>',\n 'hi, what should i do today? <<Greetings/Salutations,RequestForInstruction>>',\n 'lettuce is on the top shelf next to the microwave <<InformationOnObjectDetails>>',\n 'slice it with a knife <<Instruction>>',\n 'done. <<Acknowledge>>',\n 'what should i do next? <<RequestForInstruction>>',\n 'slice tomato <<Instruction>>',\n 'tomato is on the shelf above coffee maker <<InformationOnObjectDetails>>',\n 'there <<InformationOnObjectDetails>>',\n 'sliced potato, what should i do next? <<Acknowledge,RequestForInstruction>>',\n '2 slices of potato. potato is on the table net to the window behind the counter <<Instruction,InformationOnObjectDetails>>',\n 'next <<RequestForInstruction>>',\n 'there <<RequestForInstruction>>',\n 'on the table <<RequestForInstruction>>',\n 'cook two slices of the potato <<Instruction>>',\n 'done, what should i do next? <<Acknowledge,RequestForInstruction>>',\n 'go for the plate on the table you got the potato <<InformationOnObjectDetails,Acknowledge>>',\n 'place the one slice lettuce, one tomato slioce and 2 slice potato on it <<Instruction>>',\n 'slice <<Instruction>>',\n 'on a plate or ? <<Confirm>>',\n 'yes plate <<Affirm>>',\n 'plate is on the table by the window <<InformationOnObjectDetails>>',\n 'behind counter <<InformationOnObjectDetails>>',\n 'where can i find a plate>? <<RequestForObjectLocationAndOtherDetails>>',\n 'on that white table <<InformationOnObjectDetails>>',\n 'done <<Acknowledge>>',\n 'done <<Acknowledge>>',\n 'awesome! <<FeedbackPositive>>',\n 'thank you <<Acknowledge>>',\n 'what do require? <<RequestForInstruction>>',\n 'hi. could you serve 1 slice of tomato in a bowl? <<Greetings/Salutations,Instruction>>',\n 'of course i can do that <<Acknowledge>>',\n 'there is aknife to the left of the coffee maker. <<InformationOnObjectDetails>>',\n 'anything else for you today? <<RequestMore>>',\n 'please clean a dirty bowl under the white island. <<Instruction>>',\n 'ok let me get to that <<Acknowledge>>',\n 'the bowl is clean <<Acknowledge>>',\n 'thank you. <<FeedbackPositive>>',\n 'ok. please place a slice of tomato in that clean bowl. <<Instruction>>',\n 'another slice in another bowl? <<Confirm>>',\n 'yes a slice in the bowl you just cleaned. <<Affirm,Instruction>>',\n 'perfect <<FeedbackPositive>>',\n 'there are now 2 bowls <<Acknowledge>>',\n 'with a slice of tomato <<Acknowledge>>',\n 'lets go <<RequestForInstruction>>',\n 'hello! cold you make a sandwich please? <<Greetings/Salutations,Instruction>>',\n 'there is a knife in the fridge <<InformationOnObjectDetails>>',\n 'you also need to toast the bread <<Instruction>>',\n 'the bread is on the shelf under the table <<InformationOnObjectDetails>>',\n 'hello? <<Greetings/Salutations>>',\n 'is everything alright? <<OtherInterfaceComment>>',\n 'just a sec <<OtherInterfaceComment>>',\n 'no worries :) <<FeedbackPositive>>',\n \"just make sure to move a bit so we don't get times out of the task :) <<OtherInterfaceComment>>\",\n 'nice! <<FeedbackPositive>>',\n 'the bread is under the table on the shelf <<InformationOnObjectDetails>>',\n 'directly under the knife. its a round loaf of bread <<InformationOnObjectDetails>>',\n 'yay! <<FeedbackPositive>>',\n 'nice work! <<FeedbackPositive>>',\n 'great. please toast 2 pieces. <<FeedbackPositive,Instruction>>',\n 'after, please slice 1 tomato. the tomato is located on the counter to the right of the coffee machine. <<Instruction,InformationOnObjectDetails>>',\n 'the plate is on the table <<InformationOnObjectDetails>>',\n \"i   don't think you can toast 2 at the same time, though it would be nice if we could. <<InformationOther>>\",\n 'nice work. <<FeedbackPositive>>',\n 'you will need 2 slices of tomato for your sandwich <<Instruction>>',\n 'the plate for your sandwich is on the table behind you <<InformationOnObjectDetails>>',\n 'its a square goldfish color <<InformationOnObjectDetails>>',\n '^goldish <<InformationOnObjectDetails>>',\n 'bingo! <<FeedbackPositive>>',\n 'nice work ;-) <<FeedbackPositive>>',\n 'good? <<RequestForInstruction>>',\n 'great job! task is complete. <<FeedbackPositive>>',\n ...]"
     },
     "execution_count": 13,
     "metadata": {},
     "output_type": "execute_result"
    }
   ],
   "source": [
    "test_data = TeachData(ST=False, DH=False, DA_E=True)\n",
    "\n",
    "test_data.train_utterances"
   ],
   "metadata": {
    "collapsed": false,
    "ExecuteTime": {
     "end_time": "2024-03-03T22:50:42.362722Z",
     "start_time": "2024-03-03T22:50:41.885563Z"
    }
   },
   "id": "ef09c7eacbfa29d0",
   "execution_count": 13
  },
  {
   "cell_type": "markdown",
   "source": [
    "### 1. Compiling the Dataset\n",
    "##### i. Separating the data"
   ],
   "metadata": {
    "collapsed": false
   },
   "id": "5dfb448d74d68855"
  },
  {
   "cell_type": "code",
   "outputs": [],
   "source": [
    "train_path = \"teach-dataset-parsed/train.json\"\n",
    "valid_seen_path = \"teach-dataset-parsed/valid_seen.json\"\n",
    "valid_unseen_path = \"teach-dataset-parsed/valid_unseen.json\"\n",
    "\n",
    "def split_utterances(filename) -> (list, list, list, list):\n",
    "    data = json.load(open(filename, \"r\"))\n",
    "    utterances = []\n",
    "    utterance_labels = []\n",
    "    \n",
    "    # Used for single label classification\n",
    "    text_segments = []\n",
    "    text_segment_labels = []\n",
    "    \n",
    "    for event in data:\n",
    "        utterances.append(event[\"utterance\"])\n",
    "        utterance_labels.append(list(filter(bool, event[\"das\"])))\n",
    "        for text_segment, dialogue_act in zip(event[\"text_segments\"], event[\"das\"]):\n",
    "            if dialogue_act:\n",
    "                text_segments.append(text_segment)\n",
    "                text_segment_labels.append(dialogue_act)\n",
    "            \n",
    "    return utterances, utterance_labels, text_segments, text_segment_labels\n",
    "\n",
    "train_utterances, train_utterance_labels, train_text_segments, train_text_segment_labels = split_utterances(train_path)\n",
    "valid_seen_utterances, valid_seen_utterance_labels, valid_seen_text_segments, valid_seen_text_segment_labels = split_utterances(valid_seen_path)\n",
    "valid_unseen_utterances, valid_unseen_utterance_labels, valid_unseen_text_segments, valid_unseen_text_segment_labels = split_utterances(valid_unseen_path)"
   ],
   "metadata": {
    "collapsed": false,
    "ExecuteTime": {
     "end_time": "2024-02-26T05:38:08.465104Z",
     "start_time": "2024-02-26T05:38:08.379317Z"
    }
   },
   "id": "700cc424ad9966af",
   "execution_count": 36
  },
  {
   "cell_type": "markdown",
   "source": [
    "##### i(a). Analyzing"
   ],
   "metadata": {
    "collapsed": false
   },
   "id": "de784dd0ce2ab7d0"
  },
  {
   "cell_type": "code",
   "outputs": [
    {
     "data": {
      "text/plain": "                               Dialogue Act  \\\n0                               Instruction   \n1                     RequestForInstruction   \n2                          RequestOtherInfo   \n3                               RequestMore   \n4                InformationOnObjectDetails   \n5   RequestForObjectLocationAndOtherDetails   \n6                          InformationOther   \n7                        AlternateQuestions   \n8                               Acknowledge   \n9                     Greetings/Salutations   \n10                                  Confirm   \n11                                MiscOther   \n12                                   Affirm   \n13                                     Deny   \n14                         FeedbackPositive   \n15                         FeedbackNegative   \n16                    OtherInterfaceComment   \n17                            NotifyFailure   \n\n                                              Example  Count  Commander(%)  \\\n0                                 To place the mug in   8350      0.993892   \n1                                   directions please   2986      0.006028   \n2                        Is that it next to the apple    439      0.006834   \n3         The lettuce has been sliced. Anything else?    369      0.002710   \n4                           Remotecontrol is on chair   5077      0.993106   \n5                                      where are they   1488      0.003360   \n6             I'll just use this one on the counter )    750      0.852000   \n7                 mug is clean, should i make coffee?     93      0.301075   \n8                                           thank you   5285      0.191675   \n9                               hello how can I help?   1873      0.432995   \n10                          could it be in a cabinet?    504      0.220238   \n11                                                 NM    481      0.538462   \n12                                                yes    328      0.777439   \n13                                           no knife    126      0.722222   \n14                                          thank you   2149      0.974872   \n15                                            no help     37      0.945946   \n16  Sorry, its taking long to load commands guess ...    370      0.624324   \n17                          having trouble with knife    353      0.036827   \n\n    Driver(%)  \n0    0.006108  \n1    0.993972  \n2    0.993166  \n3    0.997290  \n4    0.006894  \n5    0.996640  \n6    0.148000  \n7    0.698925  \n8    0.808325  \n9    0.567005  \n10   0.779762  \n11   0.461538  \n12   0.222561  \n13   0.277778  \n14   0.025128  \n15   0.054054  \n16   0.375676  \n17   0.963173  ",
      "text/html": "<div>\n<style scoped>\n    .dataframe tbody tr th:only-of-type {\n        vertical-align: middle;\n    }\n\n    .dataframe tbody tr th {\n        vertical-align: top;\n    }\n\n    .dataframe thead th {\n        text-align: right;\n    }\n</style>\n<table border=\"1\" class=\"dataframe\">\n  <thead>\n    <tr style=\"text-align: right;\">\n      <th></th>\n      <th>Dialogue Act</th>\n      <th>Example</th>\n      <th>Count</th>\n      <th>Commander(%)</th>\n      <th>Driver(%)</th>\n    </tr>\n  </thead>\n  <tbody>\n    <tr>\n      <th>0</th>\n      <td>Instruction</td>\n      <td>To place the mug in</td>\n      <td>8350</td>\n      <td>0.993892</td>\n      <td>0.006108</td>\n    </tr>\n    <tr>\n      <th>1</th>\n      <td>RequestForInstruction</td>\n      <td>directions please</td>\n      <td>2986</td>\n      <td>0.006028</td>\n      <td>0.993972</td>\n    </tr>\n    <tr>\n      <th>2</th>\n      <td>RequestOtherInfo</td>\n      <td>Is that it next to the apple</td>\n      <td>439</td>\n      <td>0.006834</td>\n      <td>0.993166</td>\n    </tr>\n    <tr>\n      <th>3</th>\n      <td>RequestMore</td>\n      <td>The lettuce has been sliced. Anything else?</td>\n      <td>369</td>\n      <td>0.002710</td>\n      <td>0.997290</td>\n    </tr>\n    <tr>\n      <th>4</th>\n      <td>InformationOnObjectDetails</td>\n      <td>Remotecontrol is on chair</td>\n      <td>5077</td>\n      <td>0.993106</td>\n      <td>0.006894</td>\n    </tr>\n    <tr>\n      <th>5</th>\n      <td>RequestForObjectLocationAndOtherDetails</td>\n      <td>where are they</td>\n      <td>1488</td>\n      <td>0.003360</td>\n      <td>0.996640</td>\n    </tr>\n    <tr>\n      <th>6</th>\n      <td>InformationOther</td>\n      <td>I'll just use this one on the counter )</td>\n      <td>750</td>\n      <td>0.852000</td>\n      <td>0.148000</td>\n    </tr>\n    <tr>\n      <th>7</th>\n      <td>AlternateQuestions</td>\n      <td>mug is clean, should i make coffee?</td>\n      <td>93</td>\n      <td>0.301075</td>\n      <td>0.698925</td>\n    </tr>\n    <tr>\n      <th>8</th>\n      <td>Acknowledge</td>\n      <td>thank you</td>\n      <td>5285</td>\n      <td>0.191675</td>\n      <td>0.808325</td>\n    </tr>\n    <tr>\n      <th>9</th>\n      <td>Greetings/Salutations</td>\n      <td>hello how can I help?</td>\n      <td>1873</td>\n      <td>0.432995</td>\n      <td>0.567005</td>\n    </tr>\n    <tr>\n      <th>10</th>\n      <td>Confirm</td>\n      <td>could it be in a cabinet?</td>\n      <td>504</td>\n      <td>0.220238</td>\n      <td>0.779762</td>\n    </tr>\n    <tr>\n      <th>11</th>\n      <td>MiscOther</td>\n      <td>NM</td>\n      <td>481</td>\n      <td>0.538462</td>\n      <td>0.461538</td>\n    </tr>\n    <tr>\n      <th>12</th>\n      <td>Affirm</td>\n      <td>yes</td>\n      <td>328</td>\n      <td>0.777439</td>\n      <td>0.222561</td>\n    </tr>\n    <tr>\n      <th>13</th>\n      <td>Deny</td>\n      <td>no knife</td>\n      <td>126</td>\n      <td>0.722222</td>\n      <td>0.277778</td>\n    </tr>\n    <tr>\n      <th>14</th>\n      <td>FeedbackPositive</td>\n      <td>thank you</td>\n      <td>2149</td>\n      <td>0.974872</td>\n      <td>0.025128</td>\n    </tr>\n    <tr>\n      <th>15</th>\n      <td>FeedbackNegative</td>\n      <td>no help</td>\n      <td>37</td>\n      <td>0.945946</td>\n      <td>0.054054</td>\n    </tr>\n    <tr>\n      <th>16</th>\n      <td>OtherInterfaceComment</td>\n      <td>Sorry, its taking long to load commands guess ...</td>\n      <td>370</td>\n      <td>0.624324</td>\n      <td>0.375676</td>\n    </tr>\n    <tr>\n      <th>17</th>\n      <td>NotifyFailure</td>\n      <td>having trouble with knife</td>\n      <td>353</td>\n      <td>0.036827</td>\n      <td>0.963173</td>\n    </tr>\n  </tbody>\n</table>\n</div>"
     },
     "execution_count": 53,
     "metadata": {},
     "output_type": "execute_result"
    }
   ],
   "source": [
    "Columns = [\"Dialogue Act\", \"Example\", \"Count\", \"Commander(%)\", \"Driver(%)\"]\n",
    "labels = [\n",
    "    \"Instruction\",\n",
    "    \"RequestForInstruction\",\n",
    "    \"RequestOtherInfo\",\n",
    "    \"RequestMore\",\n",
    "    \"InformationOnObjectDetails\",\n",
    "    \"RequestForObjectLocationAndOtherDetails\",\n",
    "    \"InformationOther\",\n",
    "    \"AlternateQuestions\",\n",
    "    \"Acknowledge\",\n",
    "    \"Greetings/Salutations\",\n",
    "    \"Confirm\",\n",
    "    \"MiscOther\",\n",
    "    \"Affirm\",\n",
    "    \"Deny\",\n",
    "    \"FeedbackPositive\",\n",
    "    \"FeedbackNegative\",\n",
    "    \"OtherInterfaceComment\",\n",
    "    \"NotifyFailure\"\n",
    "]\n",
    "\n",
    "driver_das = {}\n",
    "commander_das = {}\n",
    "\n",
    "for event in json.load(open(train_path, \"r\")) + json.load(open(valid_seen_path, \"r\")) + json.load(open(valid_unseen_path, \"r\")):\n",
    "    for da, segment in zip(event[\"das\"], event[\"text_segments\"]):\n",
    "        if da:\n",
    "            dialogue_act = da[0].upper() + da[1:]\n",
    "            if dialogue_act not in driver_das:\n",
    "                driver_das[dialogue_act] = []\n",
    "                commander_das[dialogue_act] = []\n",
    "            if event[\"agent\"] == \"Driver\":\n",
    "                driver_das[dialogue_act].append(event[\"utterance\"])\n",
    "            else:\n",
    "                commander_das[dialogue_act].append(event[\"utterance\"])\n",
    "                \n",
    "data = []\n",
    "for label in labels:\n",
    "    driver = driver_das[label]\n",
    "    commander = commander_das[label]\n",
    "    data.append([label, \n",
    "                 driver[0] if driver else commander[0], \n",
    "                 len(driver) + len(commander), \n",
    "                 len(commander) / (len(driver) + len(commander)), \n",
    "                 len(driver) / (len(driver) + len(commander))])\n",
    "\n",
    "df = pd.DataFrame(data, columns=Columns)\n",
    "df"
   ],
   "metadata": {
    "collapsed": false,
    "ExecuteTime": {
     "end_time": "2024-02-26T16:06:34.576445Z",
     "start_time": "2024-02-26T16:06:34.441935Z"
    }
   },
   "id": "850795995b70638d",
   "execution_count": 53
  },
  {
   "cell_type": "markdown",
   "source": [
    "##### ii. Making test and validation sets"
   ],
   "metadata": {
    "collapsed": false
   },
   "id": "b265947df7a74d59"
  },
  {
   "cell_type": "code",
   "outputs": [],
   "source": [
    "valid_utterances = valid_seen_utterances[:len(valid_seen_utterances) // 2] + valid_unseen_utterances[:len(valid_unseen_utterances) // 2]\n",
    "valid_utterance_labels = valid_seen_utterance_labels[:len(valid_seen_utterance_labels) // 2] + valid_unseen_utterance_labels[:len(valid_unseen_utterance_labels) // 2]\n",
    "valid_text_segments = valid_seen_text_segments[:len(valid_seen_text_segments) // 2] + valid_unseen_text_segments[:len(valid_unseen_text_segments) // 2]\n",
    "valid_text_segment_labels = valid_seen_text_segment_labels[:len(valid_seen_text_segment_labels) // 2] + valid_unseen_text_segment_labels[:len(valid_unseen_text_segment_labels) // 2]\n",
    "\n",
    "test_utterances = valid_seen_utterances[len(valid_seen_utterances) // 2:] + valid_unseen_utterances[len(valid_unseen_utterances) // 2:]\n",
    "test_utterance_labels = valid_seen_utterance_labels[len(valid_seen_utterance_labels) // 2:] + valid_unseen_utterance_labels[len(valid_unseen_utterance_labels) // 2:]\n",
    "test_text_segments = valid_seen_text_segments[len(valid_seen_text_segments) // 2:] + valid_unseen_text_segments[len(valid_unseen_text_segments) // 2:]\n",
    "test_text_segment_labels = valid_seen_text_segment_labels[len(valid_seen_text_segment_labels) // 2:] + valid_unseen_text_segment_labels[len(valid_unseen_text_segment_labels) // 2:]"
   ],
   "metadata": {
    "collapsed": false,
    "ExecuteTime": {
     "end_time": "2024-02-26T05:38:08.477874Z",
     "start_time": "2024-02-26T05:38:08.472115Z"
    }
   },
   "id": "eae7ea3e1de4dec9",
   "execution_count": 37
  },
  {
   "cell_type": "markdown",
   "source": [
    "##### iii. Tokenizing"
   ],
   "metadata": {
    "collapsed": false
   },
   "id": "b72eaddc7ae06e57"
  },
  {
   "cell_type": "code",
   "outputs": [],
   "source": [
    "tokenizer = BertTokenizer.from_pretrained(MODEL, do_lower_case=True)\n",
    "\n",
    "train_text_segment_encodings = tokenizer(train_text_segments, truncation=True, padding=True)\n",
    "valid_text_segment_encodings = tokenizer(valid_text_segments, truncation=True, padding=True)\n",
    "test_text_segment_encodings = tokenizer(test_text_segments, truncation=True, padding=True)\n",
    "\n",
    "train_utterance_encodings = tokenizer(train_utterances, truncation=True, padding=True)\n",
    "valid_utterance_encodings = tokenizer(valid_utterances, truncation=True, padding=True)\n",
    "test_utterance_encodings = tokenizer(test_utterances, truncation=True, padding=True)"
   ],
   "metadata": {
    "collapsed": false,
    "ExecuteTime": {
     "end_time": "2024-02-26T05:38:11.057710Z",
     "start_time": "2024-02-26T05:38:08.477946Z"
    }
   },
   "id": "36a1353c2243dccd",
   "execution_count": 38
  },
  {
   "cell_type": "markdown",
   "source": [
    "##### iv. Labeling"
   ],
   "metadata": {
    "collapsed": false
   },
   "id": "b2dcbda1a8e1a355"
  },
  {
   "cell_type": "code",
   "outputs": [],
   "source": [
    "filenames = [train_path, valid_seen_path, valid_unseen_path]\n",
    "\n",
    "labels = set()\n",
    "for filename in filenames:\n",
    "    data = json.load(open(filename, \"r\"))\n",
    "    for event in data:\n",
    "        labels.update(event[\"das\"])\n",
    "labels.remove(\"\")\n",
    "\n",
    "labels = list(labels)\n",
    "\n",
    "def remap_multilabels(label_list: list[str]) -> list[int]:\n",
    "    return [int(label in label_list) for label in labels]\n",
    "\n",
    "def remap_singlelabels(label: str) -> list[int]:\n",
    "    return [int(label == label_) for label_ in labels]\n",
    "\n",
    "train_text_segment_labels_encoded = list(map(remap_singlelabels, train_text_segment_labels))\n",
    "valid_text_segment_labels_encoded = list(map(remap_singlelabels, valid_text_segment_labels))\n",
    "test_text_segment_labels_encoded = list(map(remap_singlelabels, test_text_segment_labels))\n",
    "\n",
    "train_utterance_labels_encoded = list(map(remap_multilabels, train_utterance_labels))\n",
    "valid_utterance_labels_encoded = list(map(remap_multilabels, valid_utterance_labels))\n",
    "test_utterance_labels_encoded = list(map(remap_multilabels, test_utterance_labels))"
   ],
   "metadata": {
    "collapsed": false,
    "ExecuteTime": {
     "end_time": "2024-02-26T05:38:11.322446Z",
     "start_time": "2024-02-26T05:38:11.061095Z"
    }
   },
   "id": "e5f39c7dc2683b84",
   "execution_count": 39
  },
  {
   "cell_type": "markdown",
   "source": [
    "##### iv. Dataset Creation"
   ],
   "metadata": {
    "collapsed": false
   },
   "id": "69d8be2bc8a165b6"
  },
  {
   "cell_type": "code",
   "outputs": [],
   "source": [
    "def get_dataset(encodings, labels) -> dict:\n",
    "    dataset = {\n",
    "        \"input_ids\": torch.tensor(encodings[\"input_ids\"], dtype=torch.int32),\n",
    "        \"attention_mask\": torch.tensor(encodings[\"attention_mask\"], dtype=torch.int32),\n",
    "        \"labels\": torch.tensor(labels, dtype=torch.float32)\n",
    "    }\n",
    "    \n",
    "    return dataset\n",
    "\n",
    "train_text_segments_dataset = Dataset.from_dict(get_dataset(train_text_segment_encodings, train_text_segment_labels_encoded))\n",
    "valid_text_segments_dataset = Dataset.from_dict(get_dataset(valid_text_segment_encodings, valid_text_segment_labels_encoded))\n",
    "test_text_segments_dataset = Dataset.from_dict(get_dataset(test_text_segment_encodings, test_text_segment_labels_encoded))\n",
    "\n",
    "train_utterances_dataset = Dataset.from_dict(get_dataset(train_utterance_encodings, train_utterance_labels_encoded))\n",
    "valid_utterances_dataset = Dataset.from_dict(get_dataset(valid_utterance_encodings, valid_utterance_labels_encoded))\n",
    "test_utterances_dataset = Dataset.from_dict(get_dataset(test_utterance_encodings, test_utterance_labels_encoded))\n",
    "\n",
    "# print(train_utterances_dataset[0][2].shape)"
   ],
   "metadata": {
    "collapsed": false,
    "ExecuteTime": {
     "end_time": "2024-02-26T05:38:12.544951Z",
     "start_time": "2024-02-26T05:38:11.479088Z"
    }
   },
   "id": "a0e2e96e6d20a818",
   "execution_count": 40
  },
  {
   "cell_type": "markdown",
   "source": [
    "### 2. Model Setup\n",
    "##### i. Model Initialization"
   ],
   "metadata": {
    "collapsed": false
   },
   "id": "2c7c94440c7a7067"
  },
  {
   "cell_type": "code",
   "outputs": [
    {
     "name": "stderr",
     "output_type": "stream",
     "text": [
      "Some weights of RobertaForSequenceClassification were not initialized from the model checkpoint at FacebookAI/roberta-base and are newly initialized: ['classifier.dense.bias', 'classifier.dense.weight', 'classifier.out_proj.bias', 'classifier.out_proj.weight']\n",
      "You should probably TRAIN this model on a down-stream task to be able to use it for predictions and inference.\n",
      "Some weights of RobertaForSequenceClassification were not initialized from the model checkpoint at FacebookAI/roberta-base and are newly initialized: ['classifier.dense.bias', 'classifier.dense.weight', 'classifier.out_proj.bias', 'classifier.out_proj.weight']\n",
      "You should probably TRAIN this model on a down-stream task to be able to use it for predictions and inference.\n"
     ]
    },
    {
     "name": "stdout",
     "output_type": "stream",
     "text": [
      "Using Metal Renderer\n"
     ]
    }
   ],
   "source": [
    "# Initializing the Single-Label Classification\n",
    "single_model = BertForSequenceClassification.from_pretrained(MODEL,\n",
    "    problem_type=\"single_label_classification\",\n",
    "    num_labels=len(labels),\n",
    "    output_attentions=False,\n",
    "    output_hidden_states=False,\n",
    ")\n",
    "# Initializing the Multi-Label Classification Model\n",
    "multi_model = BertForSequenceClassification.from_pretrained(MODEL, \n",
    "    problem_type=\"multi_label_classification\",\n",
    "    num_labels=len(labels),\n",
    "    output_attentions=False,\n",
    "    output_hidden_states=False\n",
    ")\n",
    "# I have a mac, so I'll use metal\n",
    "if torch.backends.mps.is_available():\n",
    "    torch_device = torch.device(\"mps\")\n",
    "    print(\"Using Metal Renderer\")\n",
    "    single_model.to(torch_device)\n",
    "    multi_model.to(torch_device)\n",
    "elif torch.cuda.is_available():\n",
    "    torch_device = torch.device(\"cuda\")\n",
    "    print(\"Using CUDA\")\n",
    "    single_model.to(torch_device)\n",
    "    multi_model.to(torch_device)\n",
    "else:\n",
    "    torch_device = torch.device(\"cpu\")\n",
    "    print(\"Using CPU\")\n",
    "    single_model.to(torch_device)\n",
    "    multi_model.to(torch_device)\n",
    "    \n",
    "single_model.train()\n",
    "multi_model.train(); # ; To not print the model"
   ],
   "metadata": {
    "collapsed": false,
    "ExecuteTime": {
     "end_time": "2024-02-26T05:38:14.480814Z",
     "start_time": "2024-02-26T05:38:12.547148Z"
    }
   },
   "id": "9e74a0805f9e6972",
   "execution_count": 41
  },
  {
   "cell_type": "markdown",
   "source": [
    "##### ii. Train Parameters"
   ],
   "metadata": {
    "collapsed": false
   },
   "id": "baa4010965011668"
  },
  {
   "cell_type": "code",
   "outputs": [],
   "source": [
    "EPOCHS = 4 # Apparently recommended\n",
    "BATCH_SIZE = 16\n",
    "\n",
    "\n",
    "total_steps = BATCH_SIZE * EPOCHS"
   ],
   "metadata": {
    "collapsed": false,
    "ExecuteTime": {
     "end_time": "2024-02-26T05:38:14.485431Z",
     "start_time": "2024-02-26T05:38:14.481188Z"
    }
   },
   "id": "edaa2e7d5d50d9a7",
   "execution_count": 42
  },
  {
   "cell_type": "markdown",
   "source": [
    "### 3. Training"
   ],
   "metadata": {
    "collapsed": false
   },
   "id": "f3f772cbf4d5ae2d"
  },
  {
   "cell_type": "markdown",
   "source": [
    "##### i. Single-Label Classification"
   ],
   "metadata": {
    "collapsed": false
   },
   "id": "ed0e306bd169fb3e"
  },
  {
   "cell_type": "code",
   "outputs": [
    {
     "data": {
      "text/plain": "<IPython.core.display.HTML object>",
      "text/html": "\n    <div>\n      \n      <progress value='4832' max='4832' style='width:300px; height:20px; vertical-align: middle;'></progress>\n      [4832/4832 19:07, Epoch 4/4]\n    </div>\n    <table border=\"1\" class=\"dataframe\">\n  <thead>\n <tr style=\"text-align: left;\">\n      <th>Epoch</th>\n      <th>Training Loss</th>\n      <th>Validation Loss</th>\n      <th>Accuracy</th>\n    </tr>\n  </thead>\n  <tbody>\n    <tr>\n      <td>1</td>\n      <td>0.055100</td>\n      <td>0.053624</td>\n      <td>0.753299</td>\n    </tr>\n    <tr>\n      <td>2</td>\n      <td>0.042800</td>\n      <td>0.046412</td>\n      <td>0.771777</td>\n    </tr>\n    <tr>\n      <td>3</td>\n      <td>0.034600</td>\n      <td>0.046420</td>\n      <td>0.785990</td>\n    </tr>\n    <tr>\n      <td>4</td>\n      <td>0.029900</td>\n      <td>0.046819</td>\n      <td>0.792284</td>\n    </tr>\n  </tbody>\n</table><p>"
     },
     "metadata": {},
     "output_type": "display_data"
    }
   ],
   "source": [
    "checkpoints = glob.glob(\"results/checkpoint-*\")\n",
    "\n",
    "if checkpoints:\n",
    "    multi_model = BertForSequenceClassification.from_pretrained(checkpoints[-1])\n",
    "    multi_model.to(torch_device)\n",
    "\n",
    "\n",
    "training_args = TrainingArguments(\n",
    "    output_dir=\"./results\",\n",
    "    num_train_epochs=EPOCHS,\n",
    "    per_device_train_batch_size=BATCH_SIZE,\n",
    "    per_device_eval_batch_size=BATCH_SIZE,\n",
    "    warmup_steps=0,\n",
    "    weight_decay=0.01,\n",
    "    evaluation_strategy=\"epoch\",\n",
    "    save_strategy=\"epoch\",\n",
    ")\n",
    "\n",
    "# source: https://jesusleal.io/2021/04/21/Longformer-multilabel-classification/\n",
    "def multi_label_metrics(predictions, labels, threshold=0.5):\n",
    "    sigmoid = torch.nn.Sigmoid()\n",
    "    probs = sigmoid(torch.tensor(predictions))\n",
    "    \n",
    "    y_pred = probs > threshold\n",
    "    y_true = labels\n",
    "    return { 'accuracy': accuracy_score(y_true, y_pred) }\n",
    "\n",
    "def compute_metric(pred: EvalPrediction):\n",
    "    return multi_label_metrics(pred.predictions, pred.label_ids)\n",
    "\n",
    "trainer = Trainer(\n",
    "    model=multi_model,\n",
    "    args=training_args,\n",
    "    train_dataset=train_utterances_dataset,\n",
    "    eval_dataset=valid_utterances_dataset,\n",
    "    compute_metrics=compute_metric,\n",
    ")\n",
    "\n",
    "if not checkpoints:\n",
    "    trainer.train()"
   ],
   "metadata": {
    "collapsed": false,
    "ExecuteTime": {
     "end_time": "2024-02-26T05:57:22.440658Z",
     "start_time": "2024-02-26T05:38:14.485615Z"
    }
   },
   "id": "aa746d7d1a2fae4b",
   "execution_count": 43
  },
  {
   "cell_type": "markdown",
   "source": [
    "### 4. Evaluation"
   ],
   "metadata": {
    "collapsed": false
   },
   "id": "871c63e455a36758"
  },
  {
   "cell_type": "code",
   "outputs": [
    {
     "data": {
      "text/plain": "<IPython.core.display.HTML object>",
      "text/html": ""
     },
     "metadata": {},
     "output_type": "display_data"
    },
    {
     "data": {
      "text/plain": "0.7990255785627284"
     },
     "execution_count": 44,
     "metadata": {},
     "output_type": "execute_result"
    }
   ],
   "source": [
    "predictions = trainer.predict(test_utterances_dataset)\n",
    "\n",
    "multi_label_metrics(predictions.predictions, test_utterance_labels_encoded)[\"accuracy\"]"
   ],
   "metadata": {
    "collapsed": false,
    "ExecuteTime": {
     "end_time": "2024-02-26T05:57:30.764191Z",
     "start_time": "2024-02-26T05:57:22.439690Z"
    }
   },
   "id": "5f3e7b7726d08971",
   "execution_count": 44
  }
 ],
 "metadata": {
  "kernelspec": {
   "display_name": "Python 3",
   "language": "python",
   "name": "python3"
  },
  "language_info": {
   "codemirror_mode": {
    "name": "ipython",
    "version": 2
   },
   "file_extension": ".py",
   "mimetype": "text/x-python",
   "name": "python",
   "nbconvert_exporter": "python",
   "pygments_lexer": "ipython2",
   "version": "2.7.6"
  }
 },
 "nbformat": 4,
 "nbformat_minor": 5
}
