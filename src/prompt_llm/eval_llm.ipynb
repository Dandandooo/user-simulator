{
 "cells": [
  {
   "metadata": {},
   "cell_type": "markdown",
   "source": [
    "# Evaluating the LLMs\n",
    "This notebook will be dedicated to running llms on the dataset in the llm_prompts_data folder in the home directory. The goal is to evaluate performance for the following tasks:\n",
    "- Predicting whether to speak or not\n",
    "- Predicting the next dialogue Act\n",
    "- (to be planned) Generating a new utterance"
   ],
   "id": "37b3cd7fc1a4039c"
  },
  {
   "metadata": {},
   "cell_type": "markdown",
   "source": [
    "## Zero-shot evaluation\n",
    "The first step is to evaluate the LLMs without any training. This will give us a baseline for the performance of the models."
   ],
   "id": "9d1e7a754207fab9"
  },
  {
   "cell_type": "code",
   "execution_count": null,
   "id": "initial_id",
   "metadata": {
    "collapsed": true
   },
   "source": [
    "import os, sys\n",
    "sys.path.append(os.path.abspath(os.path.join('../..')))\n",
    "\n",
    "from src.model.causal import EvalLM\n",
    "\n",
    "# The instruct versions should perform better for this task\n",
    "huggingface_models = [\n",
    "    \"google/gemma-1.1-2b-it\",  \n",
    "    \"google/gemma-1.1-7b-it\",\n",
    "    \"meta-llama/Meta-Llama-3-8B-Instruct\",\n",
    "    \"meta-llama/Meta-Llama-3-70B-Instruct\"\n",
    "]"
   ],
   "outputs": []
  }
 ],
 "metadata": {
  "kernelspec": {
   "display_name": "Python 3",
   "language": "python",
   "name": "python3"
  },
  "language_info": {
   "codemirror_mode": {
    "name": "ipython",
    "version": 2
   },
   "file_extension": ".py",
   "mimetype": "text/x-python",
   "name": "python",
   "nbconvert_exporter": "python",
   "pygments_lexer": "ipython2",
   "version": "2.7.6"
  }
 },
 "nbformat": 4,
 "nbformat_minor": 5
}
