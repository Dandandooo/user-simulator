{
 "cells": [
  {
   "cell_type": "markdown",
   "metadata": {},
   "source": [
    "# Evaluation of Experiments"
   ]
  },
  {
   "cell_type": "code",
   "execution_count": 1,
   "metadata": {},
   "outputs": [],
   "source": [
    "from src.user_sim2.eval import Evaluate"
   ]
  },
  {
   "cell_type": "markdown",
   "metadata": {},
   "source": [
    "## Experiment 1\n",
    "All moves included"
   ]
  },
  {
   "cell_type": "code",
   "execution_count": 2,
   "metadata": {},
   "outputs": [
    {
     "name": "stderr",
     "output_type": "stream",
     "text": [
      "/taiga/illinois/collab/eng/cs/conv-ai/UserSimulator/src/user_sim2/eval.py:62: RuntimeWarning: invalid value encountered in scalar divide\n",
      "  da_f1s = np.array([2 * da_matrix[i, i] / (np.sum(da_matrix[i, :]) + np.sum(da_matrix[:, i])) for i in range(da_matrix.shape[0])])\n",
      "/taiga/illinois/collab/eng/cs/conv-ai/UserSimulator/src/user_sim2/eval.py:69: RuntimeWarning: invalid value encountered in scalar divide\n",
      "  spandana_accuracies = np.array([spandana_matrix[i, i] / np.sum(spandana_matrix[i, :]) for i in range(1, spandana_matrix.shape[0]-1)])\n",
      "/taiga/illinois/collab/eng/cs/conv-ai/UserSimulator/src/user_sim2/eval.py:68: RuntimeWarning: invalid value encountered in scalar divide\n",
      "  spandana_f1s = np.array([2 * spandana_matrix[i, i] / (np.sum(spandana_matrix[i, :]) + np.sum(spandana_matrix[:, i])) for i in range(1, spandana_matrix.shape[0]-1)])\n"
     ]
    },
    {
     "name": "stdout",
     "output_type": "stream",
     "text": [
      "<class 'NoneType'>\n",
      "<class 'NoneType'>\n",
      "<class 'NoneType'>\n"
     ]
    }
   ],
   "source": [
    "exp1_0s_hug = Evaluate(\"experiment_results/exp1/0s-hug.jsonl\")\n",
    "exp1_0s_gpt = Evaluate(\"experiment_results/exp1/0s-gpt.jsonl\")\n",
    "exp1_fs_hug = Evaluate(\"experiment_results/exp1/fs-hug.jsonl\")\n",
    "exp1_fs_gpt = Evaluate(\"experiment_results/exp1/fs-gpt.jsonl\")"
   ]
  },
  {
   "cell_type": "markdown",
   "metadata": {},
   "source": [
    "### 0-Shot Llama 3.1"
   ]
  },
  {
   "cell_type": "code",
   "execution_count": 9,
   "metadata": {},
   "outputs": [
    {
     "name": "stdout",
     "output_type": "stream",
     "text": [
      "\u001b[35;1mConfusion Matrix:\u001b[0m\n",
      "[[ 125    4    4    6   57    7   51   80   16  181    9  508   92   58\n",
      "     2    7  172    8    8 5031]\n",
      " [   0    1    0    0    1    0    0    0    0    3    0    1    1    0\n",
      "     0    0    3    0    0   38]\n",
      " [   1    0    0    0    0    0    0    1    0    0    0    1    0    0\n",
      "     0    0    0    0    0   13]\n",
      " [   0    0    0    0    0    0    0    0    0    0    0    0    0    0\n",
      "     0    0    0    0    0    0]\n",
      " [   1    0    0    0    0    0    0    0    0    0    0    0    0    0\n",
      "     0    0    2    0    0   11]\n",
      " [   0    0    0    0    0    0    0    0    0    1    0    0    0    0\n",
      "     0    0    0    0    0    4]\n",
      " [   0    0    0    0    0    0    0    0    0    0    0    0    0    0\n",
      "     0    0    0    0    0    1]\n",
      " [   2    0    0    0    0    0    1    1    1    2    0    7    6    1\n",
      "     0    0    1    0    0   61]\n",
      " [   3    0    0    0    0    0    0    0    7    0    0   12    0    1\n",
      "     0    0    1    0    0   37]\n",
      " [   7    1    0    0    2    0    0    6    0   16    0   26    5    6\n",
      "     0    2    4    1    1  317]\n",
      " [   0    0    0    0    0    0    0    0    0    4    0    2    0    0\n",
      "     0    0    0    0    0   50]\n",
      " [  17    3    0    0    1    0    3    5    3   15    0   63    9    2\n",
      "     0    0    9    0    0  481]\n",
      " [   0    0    0    0    0    0    0    0    0    1    0    0    0    0\n",
      "     0    0    0    0    0   11]\n",
      " [   0    0    0    0    0    1    0    0    0    0    0    0    0    0\n",
      "     0    0    0    0    0    0]\n",
      " [   1    0    0    0    0    0    0    0    0    0    0    1    0    0\n",
      "     0    0    1    0    0    7]\n",
      " [   1    0    0    0    0    0    0    0    0    0    0    0    0    0\n",
      "     0    0    0    0    0    3]\n",
      " [   0    0    0    0    0    0    0    0    0    0    0    0    0    0\n",
      "     0    0    0    0    0    0]\n",
      " [   0    0    0    0    0    0    0    0    0    0    0    0    0    0\n",
      "     0    0    0    0    0    0]\n",
      " [   0    0    0    0    0    0    0    0    0    0    0    0    0    0\n",
      "     0    0    0    0    0    0]\n",
      " [   0    0    0    0    0    0    0    0    0    0    0    0    0    0\n",
      "     0    0    0    0    0    0]]\n",
      "\n",
      "\u001b[35;1mMetrics:\u001b[0m\n",
      "\n",
      "\u001b[33mSpeak F1:\u001b[0m 0.28831460674157305\n",
      "\u001b[33mSpeak Matrix:\u001b[0m\n",
      "[[ 125 6301]\n",
      " [  33 1283]]\n",
      "\n",
      "\u001b[33mDA F1:\u001b[0m nan\n",
      "\u001b[33mCDE F1:\u001b[0m 0.07238216866883736\n",
      "\u001b[33mCDE Accuracy:\u001b[0m nan\n"
     ]
    }
   ],
   "source": [
    "exp1_0s_hug.print_results()\n",
    "# exp1_0s_hug.heatmap()"
   ]
  },
  {
   "cell_type": "markdown",
   "metadata": {},
   "source": [
    "### 0-Shot GPT-4o mini"
   ]
  },
  {
   "cell_type": "code",
   "execution_count": 8,
   "metadata": {},
   "outputs": [
    {
     "name": "stdout",
     "output_type": "stream",
     "text": [
      "\u001b[35;1mConfusion Matrix:\u001b[0m\n",
      "[[5658    4    2    0    1   13   25    2    0    1    1  156    0   12\n",
      "     0    0    4    0    0  546]\n",
      " [  37    0    0    0    0    1    1    0    0    0    0    0    0    0\n",
      "     0    0    0    0    0    9]\n",
      " [  11    0    1    0    0    1    0    0    0    0    0    0    0    0\n",
      "     0    0    0    0    0    3]\n",
      " [   0    0    0    0    0    0    0    0    0    0    0    0    0    0\n",
      "     0    0    0    0    0    0]\n",
      " [  11    0    0    0    0    0    0    0    0    0    0    0    0    0\n",
      "     0    0    0    0    0    3]\n",
      " [   3    0    0    0    0    1    0    0    0    0    0    0    0    0\n",
      "     0    0    0    0    0    1]\n",
      " [   1    0    0    0    0    0    0    0    0    0    0    0    0    0\n",
      "     0    0    0    0    0    0]\n",
      " [  66    0    0    0    0    0    1    0    0    0    0    0    0    1\n",
      "     0    0    0    0    0   15]\n",
      " [  15    0    0    0    0    0    0    0    0    0    0   45    0    1\n",
      "     0    0    0    0    0    0]\n",
      " [ 324    1    0    0    0    0    2    0    0    1    1   19    0    1\n",
      "     0    0    0    0    0   45]\n",
      " [  40    0    0    0    1    0    0    0    0    0    0    3    0    0\n",
      "     0    0    0    0    0   12]\n",
      " [ 424    2    0    0    1    1    3    0    0    0    0   98    0    0\n",
      "     0    0    0    0    0   81]\n",
      " [  10    0    0    0    0    0    0    0    0    0    0    1    0    0\n",
      "     0    0    0    0    0    1]\n",
      " [   1    0    0    0    0    0    0    0    0    0    0    0    0    0\n",
      "     0    0    0    0    0    0]\n",
      " [   9    0    0    0    0    0    0    0    0    0    0    0    0    0\n",
      "     0    0    0    0    0    1]\n",
      " [   3    0    0    0    0    0    0    0    0    0    0    1    0    0\n",
      "     0    0    0    0    0    0]\n",
      " [   0    0    0    0    0    0    0    0    0    0    0    0    0    0\n",
      "     0    0    0    0    0    0]\n",
      " [   0    0    0    0    0    0    0    0    0    0    0    0    0    0\n",
      "     0    0    0    0    0    0]\n",
      " [   0    0    0    0    0    0    0    0    0    0    0    0    0    0\n",
      "     0    0    0    0    0    0]\n",
      " [   0    0    0    0    0    0    0    0    0    0    0    0    0    0\n",
      "     0    0    0    0    0    0]]\n",
      "\n",
      "\u001b[35;1mMetrics:\u001b[0m\n",
      "\n",
      "\u001b[33mSpeak F1:\u001b[0m 0.29484029484029484\n",
      "\u001b[33mSpeak Matrix:\u001b[0m\n",
      "[[5658  767]\n",
      " [ 955  360]]\n",
      "\n",
      "\u001b[33mDA F1:\u001b[0m nan\n",
      "\u001b[33mCDE F1:\u001b[0m nan\n",
      "\u001b[33mCDE Accuracy:\u001b[0m nan\n"
     ]
    }
   ],
   "source": [
    "exp1_0s_gpt.print_results()\n",
    "# exp1_0s_gpt.heatmap()"
   ]
  },
  {
   "cell_type": "markdown",
   "metadata": {},
   "source": [
    "### Few-Shot Llama 3.1"
   ]
  },
  {
   "cell_type": "code",
   "execution_count": 10,
   "metadata": {},
   "outputs": [
    {
     "name": "stdout",
     "output_type": "stream",
     "text": [
      "\u001b[35;1mConfusion Matrix:\u001b[0m\n",
      "[[181  21   7  99   6   1   1   4  19  25   2 168 891 111   1   1 274   3\n",
      "    1 308]\n",
      " [  1   2   0   0   0   0   0   0   0   0   0   0   6   1   0   0   1   0\n",
      "    0   3]\n",
      " [  0   0   0   0   0   0   0   0   0   0   0   0   3   0   0   0   0   0\n",
      "    0   0]\n",
      " [  0   0   0   0   0   0   0   0   0   0   0   0   0   0   0   0   0   0\n",
      "    0   0]\n",
      " [  1   0   0   0   0   0   0   0   0   0   0   0   2   0   0   0   0   0\n",
      "    0   0]\n",
      " [  0   0   0   0   0   0   0   0   0   0   0   0   0   0   0   0   0   0\n",
      "    0   0]\n",
      " [  0   0   0   0   0   0   0   0   0   0   0   0   0   0   0   0   0   0\n",
      "    0   0]\n",
      " [  2   0   0   0   0   0   0   0   0   0   0   5  13   4   0   0   4   0\n",
      "    0  10]\n",
      " [  4   0   0   1   0   0   0   0   0   0   0   5   8   0   0   0   1   0\n",
      "    0   2]\n",
      " [  2   2   0   7   1   0   0   0   1   0   0  12  49   6   0   0  18   0\n",
      "    0  12]\n",
      " [  0   0   0   2   0   0   0   0   0   0   0   1   7   2   0   0   1   0\n",
      "    1   2]\n",
      " [ 11   2   1  10   1   0   0   0   9   1   0  19  84   9   0   2  16   0\n",
      "    0  24]\n",
      " [  2   0   0   0   0   0   0   0   0   0   0   0   1   0   0   0   0   0\n",
      "    0   1]\n",
      " [  0   0   0   0   0   0   0   0   0   0   0   0   1   0   0   0   0   0\n",
      "    0   0]\n",
      " [  1   0   0   0   0   0   0   0   0   0   0   0   1   1   0   0   0   0\n",
      "    0   0]\n",
      " [  0   0   0   1   0   0   0   0   0   0   0   1   2   0   0   0   0   0\n",
      "    0   0]\n",
      " [  0   0   0   0   0   0   0   0   0   0   0   0   0   0   0   0   0   0\n",
      "    0   0]\n",
      " [  0   0   0   0   0   0   0   0   0   0   0   0   0   0   0   0   0   0\n",
      "    0   0]\n",
      " [  0   0   0   0   0   0   0   0   0   0   0   0   0   0   0   0   0   0\n",
      "    0   0]\n",
      " [  0   0   0   0   0   0   0   0   0   0   0   0   0   0   0   0   0   0\n",
      "    0   0]]\n",
      "\n",
      "\u001b[35;1mMetrics:\u001b[0m\n",
      "\n",
      "\u001b[33mSpeak F1:\u001b[0m 0.27975100695715854\n",
      "\u001b[33mSpeak Matrix:\u001b[0m\n",
      "[[ 181 1943]\n",
      " [  24  382]]\n",
      "\n",
      "\u001b[33mDA F1:\u001b[0m nan\n",
      "\u001b[33mCDE F1:\u001b[0m 0.047606690505181654\n",
      "\u001b[33mCDE Accuracy:\u001b[0m nan\n"
     ]
    }
   ],
   "source": [
    "exp1_fs_hug.print_results()\n",
    "# exp1_fs_hug.heatmap()"
   ]
  },
  {
   "cell_type": "markdown",
   "metadata": {},
   "source": [
    "### Few-Shot GPT-4o mini"
   ]
  },
  {
   "cell_type": "code",
   "execution_count": 7,
   "metadata": {},
   "outputs": [
    {
     "name": "stdout",
     "output_type": "stream",
     "text": [
      "\u001b[35;1mConfusion Matrix:\u001b[0m\n",
      "[[6171    0    1    0    0    2    0    1    0    1    0    0    0    0\n",
      "     0    0    0    0    0  250]\n",
      " [  45    0    0    0    0    0    0    0    0    0    0    0    0    0\n",
      "     0    0    0    0    0    3]\n",
      " [  10    0    0    0    0    0    0    0    0    0    0    0    0    0\n",
      "     0    0    0    0    0    5]\n",
      " [   0    0    0    0    0    0    0    0    0    0    0    0    0    0\n",
      "     0    0    0    0    0    0]\n",
      " [  14    0    0    0    0    0    0    0    0    0    0    0    0    0\n",
      "     0    0    0    0    0    0]\n",
      " [   4    0    0    0    0    0    0    0    0    0    0    0    0    0\n",
      "     0    0    0    0    0    1]\n",
      " [   1    0    0    0    0    0    0    0    0    0    0    0    0    0\n",
      "     0    0    0    0    0    0]\n",
      " [  77    0    0    0    0    0    0    0    0    0    0    0    0    0\n",
      "     0    0    0    0    0    6]\n",
      " [  27    0    0    0    0    0    0    0    0    0    0    0    0    0\n",
      "     0    0    0    0    0   34]\n",
      " [ 342    0    0    0    0    0    0    0    0    0    0    0    0    0\n",
      "     0    0    0    0    0   52]\n",
      " [  48    0    0    0    0    0    0    0    0    0    0    0    0    0\n",
      "     0    0    0    0    0    8]\n",
      " [ 484    0    0    0    0    0    0    0    0    0    0    0    0    0\n",
      "     0    0    0    0    0  127]\n",
      " [  10    0    0    0    0    0    0    0    0    0    0    0    0    0\n",
      "     0    0    0    0    0    2]\n",
      " [   1    0    0    0    0    0    0    0    0    0    0    0    0    0\n",
      "     0    0    0    0    0    0]\n",
      " [   9    0    0    0    0    0    0    0    0    0    0    0    0    0\n",
      "     0    0    0    0    0    1]\n",
      " [   4    0    0    0    0    0    0    0    0    0    0    0    0    0\n",
      "     0    0    0    0    0    0]\n",
      " [   0    0    0    0    0    0    0    0    0    0    0    0    0    0\n",
      "     0    0    0    0    0    0]\n",
      " [   0    0    0    0    0    0    0    0    0    0    0    0    0    0\n",
      "     0    0    0    0    0    0]\n",
      " [   0    0    0    0    0    0    0    0    0    0    0    0    0    0\n",
      "     0    0    0    0    0    0]\n",
      " [   0    0    0    0    0    0    0    0    0    0    0    0    0    0\n",
      "     0    0    0    0    0    0]]\n",
      "\n",
      "\u001b[35;1mMetrics:\u001b[0m\n",
      "\n",
      "\u001b[33mSpeak F1:\u001b[0m 0.26423438363736873\n",
      "\u001b[33mSpeak Matrix:\u001b[0m\n",
      "[[6171  255]\n",
      " [1076  239]]\n",
      "\n",
      "\u001b[33mDA F1:\u001b[0m nan\n",
      "\u001b[33mCDE F1:\u001b[0m nan\n",
      "\u001b[33mCDE Accuracy:\u001b[0m nan\n"
     ]
    }
   ],
   "source": [
    "exp1_fs_gpt.print_results()\n",
    "# exp1_fs_gpt.heatmap()"
   ]
  },
  {
   "cell_type": "markdown",
   "metadata": {},
   "source": [
    "## Experiment 2\n",
    "No Moves"
   ]
  },
  {
   "cell_type": "code",
   "execution_count": 7,
   "metadata": {},
   "outputs": [
    {
     "name": "stderr",
     "output_type": "stream",
     "text": [
      "/taiga/illinois/collab/eng/cs/conv-ai/UserSimulator/src/user_sim2/eval.py:53: RuntimeWarning: invalid value encountered in scalar divide\n",
      "  return np.nan_to_num(2 * matrix[i, i] / (np.sum(matrix[i, :]) + np.sum(matrix[:, i])), nan=0.0)\n",
      "/taiga/illinois/collab/eng/cs/conv-ai/UserSimulator/src/user_sim2/eval.py:55: RuntimeWarning: invalid value encountered in scalar divide\n",
      "  return np.nan_to_num(matrix[i, i] / np.sum(matrix[i, :]), nan=0.0)\n"
     ]
    },
    {
     "name": "stdout",
     "output_type": "stream",
     "text": [
      "<class 'NoneType'>\n",
      "<class 'NoneType'>\n",
      "<class 'NoneType'>\n",
      "<class 'NoneType'>\n",
      "<class 'NoneType'>\n"
     ]
    }
   ],
   "source": [
    "exp2_0s_hug = Evaluate(\"experiment_results/exp2/0s-hug.jsonl\")\n",
    "exp2_0s_gpt = Evaluate(\"experiment_results/exp2/0s-gpt.jsonl\")\n",
    "exp2_fs_hug = Evaluate(\"experiment_results/exp2/fs-hug.jsonl\")\n",
    "exp2_fs_gpt = Evaluate(\"experiment_results/exp2/fs-gpt.jsonl\")\n",
    "exp2_sft = Evaluate(\"experiment_results/exp2/sft.jsonl\")"
   ]
  },
  {
   "cell_type": "code",
   "execution_count": 3,
   "metadata": {},
   "outputs": [
    {
     "name": "stdout",
     "output_type": "stream",
     "text": [
      "\u001b[35;1mConfusion Matrix:\u001b[0m\n",
      "[[  88    6    2    1   29    3   18   41   15   76    2  208   67   24\n",
      "     2    7   69    6    1 2346]\n",
      " [   0    0    0    0    1    0    1    0    0    0    0    0    0    0\n",
      "     0    0    0    1    0   25]\n",
      " [   0    0    0    0    0    0    0    0    0    0    0    0    0    0\n",
      "     0    0    1    0    0    4]\n",
      " [   0    0    0    0    0    0    0    0    0    0    0    0    0    0\n",
      "     0    0    0    0    0    0]\n",
      " [   1    0    0    0    0    0    0    0    0    0    0    1    0    0\n",
      "     0    0    1    0    0    3]\n",
      " [   0    0    0    0    0    0    0    0    0    0    0    0    0    0\n",
      "     0    0    0    0    0    3]\n",
      " [   0    0    0    0    0    0    0    0    0    0    0    0    0    0\n",
      "     0    0    0    0    0    0]\n",
      " [   1    0    0    0    2    0    1    0    0    0    0    5    0    1\n",
      "     0    0    4    1    0   46]\n",
      " [   5    0    0    0    0    1    0    0    3    0    0    3    0    0\n",
      "     0    0    0    0    0   23]\n",
      " [   3    1    0    1    2    0    1    4    0    7    0   16    1    0\n",
      "     0    0    3    1    0  184]\n",
      " [   0    1    0    0    1    0    0    0    0    0    0    3    0    0\n",
      "     0    0    3    0    0   27]\n",
      " [   4    0    1    0    2    1    0    2    2    5    0   35    3    1\n",
      "     0    0    6    0    0  274]\n",
      " [   0    0    0    0    1    0    0    1    0    0    0    0    0    0\n",
      "     0    0    0    0    0    5]\n",
      " [   0    0    0    0    0    0    0    0    0    0    0    0    0    0\n",
      "     0    0    0    0    0    1]\n",
      " [   1    0    0    0    0    0    0    0    0    0    0    1    0    0\n",
      "     1    0    0    0    0    7]\n",
      " [   2    0    0    0    0    0    0    0    0    0    0    0    0    0\n",
      "     0    0    0    0    0    2]\n",
      " [   0    0    0    0    0    0    0    0    0    0    0    0    0    0\n",
      "     0    0    0    0    0    0]\n",
      " [   0    0    0    0    0    0    0    0    0    0    0    0    0    0\n",
      "     0    0    0    0    0    0]\n",
      " [   0    0    0    0    0    0    0    0    0    0    0    0    0    0\n",
      "     0    0    0    0    0    0]\n",
      " [   0    0    0    0    0    0    0    0    0    0    0    0    0    0\n",
      "     0    0    0    0    0    0]]\n",
      "\n",
      "\u001b[35;1mMetrics:\u001b[0m\n",
      "\n",
      "\u001b[33mSpeak F1:\u001b[0m 0.3342391304347826\n",
      "\u001b[33mSpeak Matrix:\u001b[0m\n",
      "[[  88 2923]\n",
      " [  17  738]]\n",
      "\n",
      "\u001b[33mDA F1:\u001b[0m 0.10692235201464416\n",
      "\u001b[33mCDE F1:\u001b[0m 0.07164521315793536\n",
      "\u001b[33mCDE Accuracy:\u001b[0m 0.060927152317880796\n"
     ]
    }
   ],
   "source": [
    "exp2_0s_hug.print_results()\n",
    "# exp2_0s_hug.heatmap()"
   ]
  },
  {
   "cell_type": "code",
   "execution_count": 4,
   "metadata": {},
   "outputs": [
    {
     "name": "stdout",
     "output_type": "stream",
     "text": [
      "\u001b[35;1mConfusion Matrix:\u001b[0m\n",
      "[[4411    4    4    0    1    9   16    0    0    0    1  130    0   13\n",
      "     0    0    5    1    0  325]\n",
      " [  40    0    0    0    0    2    0    0    0    0    0    0    0    0\n",
      "     0    0    0    0    0    6]\n",
      " [  10    0    1    0    0    0    0    0    0    0    0    0    0    1\n",
      "     0    0    0    0    0    4]\n",
      " [   0    0    0    0    0    0    0    0    0    0    0    0    0    0\n",
      "     0    0    0    0    0    0]\n",
      " [  13    0    0    0    0    0    0    0    0    0    0    1    0    0\n",
      "     0    0    0    0    0    0]\n",
      " [   1    0    0    0    0    2    0    0    0    0    0    1    0    0\n",
      "     0    0    0    0    0    1]\n",
      " [   1    0    0    0    0    0    0    0    0    0    0    0    0    0\n",
      "     0    0    0    0    0    0]\n",
      " [  66    0    0    0    0    0    1    0    0    0    0    0    0    1\n",
      "     0    0    0    0    0   15]\n",
      " [  12    0    0    0    0    0    0    0    0    0    0   49    0    0\n",
      "     0    0    0    0    0    0]\n",
      " [ 301    0    0    0    0    1    3    1    0    3    1   14    0    0\n",
      "     0    0    2    0    1   67]\n",
      " [  44    0    0    0    0    0    0    0    0    0    0    2    0    0\n",
      "     0    0    0    0    0   10]\n",
      " [ 395    5    1    0    2    1    2    0    0    0    0  109    0    1\n",
      "     0    0    0    0    0   95]\n",
      " [  10    0    0    0    0    0    0    0    0    0    0    1    0    0\n",
      "     0    0    0    0    0    1]\n",
      " [   1    0    0    0    0    0    0    0    0    0    0    0    0    0\n",
      "     0    0    0    0    0    0]\n",
      " [   8    0    0    0    0    0    0    0    0    0    0    0    0    0\n",
      "     0    0    0    0    0    2]\n",
      " [   4    0    0    0    0    0    0    0    0    0    0    0    0    0\n",
      "     0    0    0    0    0    0]\n",
      " [   0    0    0    0    0    0    0    0    0    0    0    0    0    0\n",
      "     0    0    0    0    0    0]\n",
      " [   0    0    0    0    0    0    0    0    0    0    0    0    0    0\n",
      "     0    0    0    0    0    0]\n",
      " [   0    0    0    0    0    0    0    0    0    0    0    0    0    0\n",
      "     0    0    0    0    0    0]\n",
      " [   0    0    0    0    0    0    0    0    0    0    0    0    0    0\n",
      "     0    0    0    0    0    0]]\n",
      "\n",
      "\u001b[35;1mMetrics:\u001b[0m\n",
      "\n",
      "\u001b[33mSpeak F1:\u001b[0m 0.3668903803131991\n",
      "\u001b[33mSpeak Matrix:\u001b[0m\n",
      "[[4411  509]\n",
      " [ 906  410]]\n",
      "\n",
      "\u001b[33mDA F1:\u001b[0m 0.3139738875442189\n",
      "\u001b[33mCDE F1:\u001b[0m 0.11664518690776324\n",
      "\u001b[33mCDE Accuracy:\u001b[0m 0.08738601823708207\n"
     ]
    }
   ],
   "source": [
    "exp2_0s_gpt.print_results()"
   ]
  },
  {
   "cell_type": "code",
   "execution_count": 5,
   "metadata": {},
   "outputs": [
    {
     "name": "stdout",
     "output_type": "stream",
     "text": [
      "\u001b[35;1mConfusion Matrix:\u001b[0m\n",
      "[[ 279   42   15  196    9    0    4    2   37   50    1  407 1803  216\n",
      "     1    5  634   11    2  663]\n",
      " [   8    0    0    2    1    0    0    1    0    0    0    1   18    1\n",
      "     0    0    4    1    0    5]\n",
      " [   0    0    0    0    0    0    0    0    0    0    0    2    6    0\n",
      "     0    0    2    1    0    1]\n",
      " [   0    0    0    0    0    0    0    0    0    0    0    0    0    0\n",
      "     0    0    0    0    0    0]\n",
      " [   1    0    0    1    0    0    0    0    0    0    0    1    4    1\n",
      "     0    0    1    0    0    2]\n",
      " [   0    0    0    0    0    0    0    0    0    0    0    0    3    0\n",
      "     0    0    0    0    0    0]\n",
      " [   0    0    0    0    0    0    0    0    0    0    0    1    0    0\n",
      "     0    0    0    0    0    0]\n",
      " [   3    1    0    5    1    0    0    0    0    1    0    3   33    5\n",
      "     0    0   13    0    0   10]\n",
      " [   3    0    1    3    0    0    0    0    6    0    0   10   27    0\n",
      "     0    0    4    0    0    3]\n",
      " [  10    2    0   22    0    0    0    0    3    7    0   34  161    9\n",
      "     0    0   58    0    0   31]\n",
      " [   3    0    0    1    0    0    1    0    0    0    0    3   23    1\n",
      "     0    0    9    1    0    4]\n",
      " [  20    6    4   40    2    1    0    0   16    3    2   71  219   20\n",
      "     0    1   74    0    0   61]\n",
      " [   0    0    0    0    0    0    0    0    0    0    0    1    5    0\n",
      "     0    0    2    0    0    1]\n",
      " [   0    0    0    0    0    0    0    0    0    0    0    0    1    0\n",
      "     0    0    0    0    0    0]\n",
      " [   1    0    0    1    0    0    0    0    0    0    0    1    4    1\n",
      "     0    0    1    0    0    1]\n",
      " [   0    0    0    1    0    0    0    0    0    0    0    0    2    0\n",
      "     0    0    0    0    0    1]\n",
      " [   0    0    0    0    0    0    0    0    0    0    0    0    0    0\n",
      "     0    0    0    0    0    0]\n",
      " [   0    0    0    0    0    0    0    0    0    0    0    0    0    0\n",
      "     0    0    0    0    0    0]\n",
      " [   0    0    0    0    0    0    0    0    0    0    0    0    0    0\n",
      "     0    0    0    0    0    0]\n",
      " [   0    0    0    0    0    0    0    0    0    0    0    0    0    0\n",
      "     0    0    0    0    0    0]]\n",
      "\n",
      "\u001b[35;1mMetrics:\u001b[0m\n",
      "\n",
      "\u001b[33mSpeak F1:\u001b[0m 0.34641449960598897\n",
      "\u001b[33mSpeak Matrix:\u001b[0m\n",
      "[[ 279 4098]\n",
      " [  49 1099]]\n",
      "\n",
      "\u001b[33mDA F1:\u001b[0m 0.12363265232875204\n",
      "\u001b[33mCDE F1:\u001b[0m 0.07750107112301448\n",
      "\u001b[33mCDE Accuracy:\u001b[0m 0.07752613240418119\n"
     ]
    }
   ],
   "source": [
    "exp2_fs_hug.print_results()"
   ]
  },
  {
   "cell_type": "code",
   "execution_count": 6,
   "metadata": {},
   "outputs": [
    {
     "name": "stdout",
     "output_type": "stream",
     "text": [
      "\u001b[35;1mConfusion Matrix:\u001b[0m\n",
      "[[4721    0    1    0    0    1    0    0    0    0    0    0    0    0\n",
      "     0    0    0    0    0  196]\n",
      " [  44    0    0    0    0    1    0    0    0    0    0    0    0    0\n",
      "     0    0    0    0    0    3]\n",
      " [   9    0    0    0    0    1    0    0    0    0    0    0    0    0\n",
      "     0    0    0    0    0    5]\n",
      " [   0    0    0    0    0    0    0    0    0    0    0    0    0    0\n",
      "     0    0    0    0    0    0]\n",
      " [  13    0    0    0    0    0    0    0    0    0    0    0    0    0\n",
      "     0    0    0    0    0    1]\n",
      " [   1    0    0    0    0    2    0    0    0    0    0    0    0    0\n",
      "     0    0    0    0    0    2]\n",
      " [   1    0    0    0    0    0    0    0    0    0    0    0    0    0\n",
      "     0    0    0    0    0    0]\n",
      " [  80    0    0    0    0    0    0    0    0    0    0    0    0    0\n",
      "     0    0    0    0    0    3]\n",
      " [  16    0    0    0    0    0    0    0    0    0    0    1    0    0\n",
      "     0    0    0    0    0   44]\n",
      " [ 312    0    0    0    0    0    0    0    0    0    0    0    0    0\n",
      "     0    0    0    0    0   81]\n",
      " [  49    0    0    0    0    0    0    0    0    0    0    0    0    0\n",
      "     0    0    0    0    0    7]\n",
      " [ 456    0    0    0    0    0    1    0    0    0    0    0    0    0\n",
      "     0    0    0    0    0  152]\n",
      " [  11    0    0    0    0    0    0    0    0    0    0    0    0    0\n",
      "     0    0    0    0    0    1]\n",
      " [   1    0    0    0    0    0    0    0    0    0    0    0    0    0\n",
      "     0    0    0    0    0    0]\n",
      " [   8    0    0    0    0    0    0    0    0    0    0    0    0    0\n",
      "     0    0    0    0    0    2]\n",
      " [   4    0    0    0    0    0    0    0    0    0    0    0    0    0\n",
      "     0    0    0    0    0    0]\n",
      " [   0    0    0    0    0    0    0    0    0    0    0    0    0    0\n",
      "     0    0    0    0    0    0]\n",
      " [   0    0    0    0    0    0    0    0    0    0    0    0    0    0\n",
      "     0    0    0    0    0    0]\n",
      " [   0    0    0    0    0    0    0    0    0    0    0    0    0    0\n",
      "     0    0    0    0    0    0]\n",
      " [   0    0    0    0    0    0    0    0    0    0    0    0    0    0\n",
      "     0    0    0    0    0    0]]\n",
      "\n",
      "\u001b[35;1mMetrics:\u001b[0m\n",
      "\n",
      "\u001b[33mSpeak F1:\u001b[0m 0.33791964777105116\n",
      "\u001b[33mSpeak Matrix:\u001b[0m\n",
      "[[4721  198]\n",
      " [1005  307]]\n",
      "\n",
      "\u001b[33mDA F1:\u001b[0m 0.006514657980456026\n",
      "\u001b[33mCDE F1:\u001b[0m 0.001524390243902439\n",
      "\u001b[33mCDE Accuracy:\u001b[0m 0.001524390243902439\n"
     ]
    }
   ],
   "source": [
    "exp2_fs_gpt.print_results()"
   ]
  },
  {
   "cell_type": "code",
   "execution_count": 8,
   "metadata": {},
   "outputs": [
    {
     "name": "stdout",
     "output_type": "stream",
     "text": [
      "\u001b[35;1mConfusion Matrix:\u001b[0m\n",
      "[[   0    0    1    0    1    0    0    0    1   10    0   16   16    0\n",
      "     0    0    3    1    0 4871]\n",
      " [   0    0    0    0    0    0    0    0    0    0    0    0    0    0\n",
      "     0    0    0    0    0   48]\n",
      " [   0    0    0    0    0    0    0    0    0    0    0    0    0    0\n",
      "     0    0    0    0    0   16]\n",
      " [   0    0    0    0    0    0    0    0    0    0    0    0    0    0\n",
      "     0    0    0    0    0    0]\n",
      " [   0    0    0    0    0    0    0    0    0    0    0    0    0    0\n",
      "     0    0    0    0    0   14]\n",
      " [   0    0    0    0    0    0    0    0    0    0    0    0    0    0\n",
      "     0    0    0    0    0    5]\n",
      " [   0    0    0    0    0    0    0    0    0    0    0    0    0    0\n",
      "     0    0    0    0    0    1]\n",
      " [   0    0    0    0    0    0    0    0    0    0    0    0    0    0\n",
      "     0    0    0    0    0   83]\n",
      " [   0    0    0    0    0    0    0    0    0    1    0    1    0    0\n",
      "     0    0    1    0    0   58]\n",
      " [   0    0    0    0    0    0    0    0    0    1    0    2    1    0\n",
      "     0    0    0    0    0  390]\n",
      " [   0    0    0    0    0    0    0    0    0    0    0    0    1    0\n",
      "     0    0    0    0    0   55]\n",
      " [   0    0    0    0    1    0    0    0    1    3    0    3    1    0\n",
      "     0    0    0    0    0  602]\n",
      " [   0    0    0    0    0    0    0    0    0    0    0    0    0    0\n",
      "     0    0    0    0    0   12]\n",
      " [   0    0    0    0    0    0    0    0    0    0    0    0    0    0\n",
      "     0    0    0    0    0    1]\n",
      " [   0    0    0    0    0    0    0    0    0    0    0    0    0    0\n",
      "     0    0    0    0    0   10]\n",
      " [   0    0    0    0    0    0    0    0    0    0    0    0    0    0\n",
      "     0    0    0    0    0    4]\n",
      " [   0    0    0    0    0    0    0    0    0    0    0    0    0    0\n",
      "     0    0    0    0    0    0]\n",
      " [   0    0    0    0    0    0    0    0    0    0    0    0    0    0\n",
      "     0    0    0    0    0    0]\n",
      " [   0    0    0    0    0    0    0    0    0    0    0    0    0    0\n",
      "     0    0    0    0    0    0]\n",
      " [   0    0    0    0    0    0    0    0    0    0    0    0    0    0\n",
      "     0    0    0    0    0    0]]\n",
      "\n",
      "\u001b[35;1mMetrics:\u001b[0m\n",
      "\n",
      "\u001b[33mSpeak F1:\u001b[0m 0.3485169491525424\n",
      "\u001b[33mSpeak Matrix:\u001b[0m\n",
      "[[   0 4920]\n",
      " [   0 1316]]\n",
      "\n",
      "\u001b[33mDA F1:\u001b[0m 0.006015646279492557\n",
      "\u001b[33mCDE F1:\u001b[0m 0.005864832493207419\n",
      "\u001b[33mCDE Accuracy:\u001b[0m 0.00303951367781155\n"
     ]
    }
   ],
   "source": [
    "exp2_sft.print_results()"
   ]
  },
  {
   "cell_type": "markdown",
   "metadata": {},
   "source": [
    "## Experiment 2.5\n",
    "Selective removal of moves"
   ]
  },
  {
   "cell_type": "code",
   "execution_count": 17,
   "metadata": {},
   "outputs": [
    {
     "name": "stdout",
     "output_type": "stream",
     "text": [
      "<class 'NoneType'>\n",
      "<class 'NoneType'>\n"
     ]
    },
    {
     "name": "stderr",
     "output_type": "stream",
     "text": [
      "/taiga/illinois/collab/eng/cs/conv-ai/UserSimulator/src/user_sim2/eval.py:62: RuntimeWarning: invalid value encountered in scalar divide\n",
      "  da_f1s = np.array([2 * da_matrix[i, i] / (np.sum(da_matrix[i, :]) + np.sum(da_matrix[:, i])) for i in range(da_matrix.shape[0])])\n",
      "/taiga/illinois/collab/eng/cs/conv-ai/UserSimulator/src/user_sim2/eval.py:68: RuntimeWarning: invalid value encountered in scalar divide\n",
      "  spandana_f1s = np.array([2 * spandana_matrix[i, i] / (np.sum(spandana_matrix[i, :]) + np.sum(spandana_matrix[:, i])) for i in range(1, spandana_matrix.shape[0]-1)])\n",
      "/taiga/illinois/collab/eng/cs/conv-ai/UserSimulator/src/user_sim2/eval.py:69: RuntimeWarning: invalid value encountered in scalar divide\n",
      "  spandana_accuracies = np.array([spandana_matrix[i, i] / np.sum(spandana_matrix[i, :]) for i in range(1, spandana_matrix.shape[0]-1)])\n"
     ]
    },
    {
     "name": "stdout",
     "output_type": "stream",
     "text": [
      "<class 'NoneType'>\n",
      "<class 'NoneType'>\n",
      "<class 'NoneType'>\n",
      "<class 'NoneType'>\n"
     ]
    }
   ],
   "source": [
    "#exp2_5_0s_hug = Evaluate(\"experiment_results/exp2.5/0s-hug.jsonl\")\n",
    "exp2_5_0s_gpt = Evaluate(\"experiment_results/exp2.5/0s-gpt.jsonl\")\n",
    "#exp2_5_fs_hug = Evaluate(\"experiment_results/exp2.5/fs-hug.jsonl\")\n",
    "exp2_5_fs_gpt = Evaluate(\"experiment_results/exp2.5/fs-gpt.jsonl\")"
   ]
  },
  {
   "cell_type": "code",
   "execution_count": 18,
   "metadata": {},
   "outputs": [
    {
     "name": "stdout",
     "output_type": "stream",
     "text": [
      "\u001b[35;1mConfusion Matrix:\u001b[0m\n",
      "[[5683   10    3    0    1   10   22    0    0    7    2  169    0   10\n",
      "     0    0    7    1    3  497]\n",
      " [  40    0    0    0    0    2    0    0    0    0    0    0    0    0\n",
      "     0    0    0    0    0    6]\n",
      " [   9    0    1    0    0    2    0    0    0    0    0    0    0    0\n",
      "     0    0    0    0    0    4]\n",
      " [   0    0    0    0    0    0    0    0    0    0    0    0    0    0\n",
      "     0    0    0    0    0    0]\n",
      " [  12    0    0    0    0    0    0    0    0    0    0    1    0    0\n",
      "     0    0    0    0    0    1]\n",
      " [   1    0    1    0    0    1    0    0    0    0    0    0    0    0\n",
      "     0    0    0    0    0    2]\n",
      " [   1    0    0    0    0    0    0    0    0    0    0    0    0    0\n",
      "     0    0    0    0    0    0]\n",
      " [  66    0    0    0    0    0    0    0    0    0    0    1    0    1\n",
      "     0    0    0    0    0   15]\n",
      " [  11    0    0    0    0    0    0    0    0    0    0   50    0    0\n",
      "     0    0    0    0    0    0]\n",
      " [ 300    1    0    0    0    1    2    0    0    1    3   18    0    0\n",
      "     0    0    2    0    0   65]\n",
      " [  44    0    0    0    0    1    0    0    0    0    0    3    0    0\n",
      "     0    0    0    0    0    8]\n",
      " [ 396    7    2    0    2    3    2    0    0    0    0  109    0    2\n",
      "     0    0    1    0    0   87]\n",
      " [  10    0    0    0    0    0    0    0    0    0    0    1    0    0\n",
      "     0    0    0    0    0    1]\n",
      " [   1    0    0    0    0    0    0    0    0    0    0    0    0    0\n",
      "     0    0    0    0    0    0]\n",
      " [   8    0    0    0    0    0    0    0    0    0    0    0    0    0\n",
      "     0    0    0    0    0    2]\n",
      " [   3    0    0    0    0    0    0    0    0    0    0    1    0    0\n",
      "     0    0    0    0    0    0]\n",
      " [   0    0    0    0    0    0    0    0    0    0    0    0    0    0\n",
      "     0    0    0    0    0    0]\n",
      " [   0    0    0    0    0    0    0    0    0    0    0    0    0    0\n",
      "     0    0    0    0    0    0]\n",
      " [   0    0    0    0    0    0    0    0    0    0    0    0    0    0\n",
      "     0    0    0    0    0    0]\n",
      " [   0    0    0    0    0    0    0    0    0    0    0    0    0    0\n",
      "     0    0    0    0    0    0]]\n",
      "\n",
      "\u001b[35;1mMetrics:\u001b[0m\n",
      "\n",
      "\u001b[33mSpeak F1:\u001b[0m 0.334412955465587\n",
      "\u001b[33mSpeak Matrix:\u001b[0m\n",
      "[[5683  742]\n",
      " [ 902  413]]\n",
      "\n",
      "\u001b[33mDA F1:\u001b[0m nan\n",
      "\u001b[33mCDE F1:\u001b[0m nan\n",
      "\u001b[33mCDE Accuracy:\u001b[0m nan\n"
     ]
    }
   ],
   "source": [
    "exp2_5_0s_gpt.print_results()"
   ]
  },
  {
   "cell_type": "code",
   "execution_count": 19,
   "metadata": {},
   "outputs": [
    {
     "name": "stdout",
     "output_type": "stream",
     "text": [
      "\u001b[35;1mConfusion Matrix:\u001b[0m\n",
      "[[6134    0    0    0    0    5    1    0    0    0    0    0    0    1\n",
      "     0    0    0    0    0  282]\n",
      " [  44    0    0    0    0    0    0    0    0    0    0    0    0    0\n",
      "     0    0    0    0    0    4]\n",
      " [  11    0    0    0    0    1    0    0    0    0    0    0    0    0\n",
      "     0    0    0    0    0    4]\n",
      " [   0    0    0    0    0    0    0    0    0    0    0    0    0    0\n",
      "     0    0    0    0    0    0]\n",
      " [  12    0    0    0    0    0    0    0    0    0    0    0    0    0\n",
      "     0    0    0    0    0    2]\n",
      " [   2    0    0    0    0    2    0    0    0    0    0    0    0    0\n",
      "     0    0    0    0    0    1]\n",
      " [   1    0    0    0    0    0    0    0    0    0    0    0    0    0\n",
      "     0    0    0    0    0    0]\n",
      " [  75    0    0    0    0    0    0    0    0    0    0    0    0    0\n",
      "     0    0    0    0    0    8]\n",
      " [  21    0    0    0    0    0    0    0    0    0    0    0    0    0\n",
      "     0    0    0    0    0   40]\n",
      " [ 312    0    0    0    0    0    0    0    0    0    0    0    0    0\n",
      "     0    0    0    0    0   82]\n",
      " [  48    0    0    0    0    0    0    0    0    0    0    0    0    0\n",
      "     0    0    0    0    0    8]\n",
      " [ 454    0    0    0    0    0    0    0    0    0    0    0    0    0\n",
      "     0    0    0    0    0  156]\n",
      " [  11    0    0    0    0    0    0    0    0    0    0    0    0    0\n",
      "     0    0    0    0    0    1]\n",
      " [   1    0    0    0    0    0    0    0    0    0    0    0    0    0\n",
      "     0    0    0    0    0    0]\n",
      " [   9    0    0    0    0    0    0    0    0    0    0    0    0    0\n",
      "     0    0    0    0    0    1]\n",
      " [   3    0    0    0    0    0    0    0    0    0    0    0    0    0\n",
      "     0    0    0    0    0    1]\n",
      " [   0    0    0    0    0    0    0    0    0    0    0    0    0    0\n",
      "     0    0    0    0    0    0]\n",
      " [   0    0    0    0    0    0    0    0    0    0    0    0    0    0\n",
      "     0    0    0    0    0    0]\n",
      " [   0    0    0    0    0    0    0    0    0    0    0    0    0    0\n",
      "     0    0    0    0    0    0]\n",
      " [   0    0    0    0    0    0    0    0    0    0    0    0    0    0\n",
      "     0    0    0    0    0    0]]\n",
      "\n",
      "\u001b[35;1mMetrics:\u001b[0m\n",
      "\n",
      "\u001b[33mSpeak F1:\u001b[0m 0.3248041775456919\n",
      "\u001b[33mSpeak Matrix:\u001b[0m\n",
      "[[6134  289]\n",
      " [1004  311]]\n",
      "\n",
      "\u001b[33mDA F1:\u001b[0m nan\n",
      "\u001b[33mCDE F1:\u001b[0m nan\n",
      "\u001b[33mCDE Accuracy:\u001b[0m nan\n"
     ]
    }
   ],
   "source": [
    "exp2_5_fs_gpt.print_results()"
   ]
  }
 ],
 "metadata": {
  "kernelspec": {
   "display_name": "Tur",
   "language": "python",
   "name": "python3"
  },
  "language_info": {
   "codemirror_mode": {
    "name": "ipython",
    "version": 3
   },
   "file_extension": ".py",
   "mimetype": "text/x-python",
   "name": "python",
   "nbconvert_exporter": "python",
   "pygments_lexer": "ipython3",
   "version": "3.10.14"
  }
 },
 "nbformat": 4,
 "nbformat_minor": 2
}
