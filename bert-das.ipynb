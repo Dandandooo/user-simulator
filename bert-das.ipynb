{
 "cells": [
  {
   "cell_type": "markdown",
   "source": [
    "# Training BERT for text-segment analysis"
   ],
   "metadata": {
    "collapsed": false
   },
   "id": "26461dd785582a2d"
  },
  {
   "cell_type": "markdown",
   "source": [
    "### 0. Initial setup"
   ],
   "metadata": {
    "collapsed": false
   },
   "id": "fd17d91121cf6788"
  },
  {
   "cell_type": "code",
   "outputs": [],
   "source": [
    "# Data Processing Libraries\n",
    "import json\n",
    "import glob\n",
    "import pandas as pd\n",
    "from transformers import RobertaTokenizer as BertTokenizer\n",
    "from datasets import Dataset\n",
    "\n",
    "# General Libraries\n",
    "import random\n",
    "\n",
    "# ML Libraries\n",
    "import numpy as np\n",
    "import torch\n",
    "\n",
    "# Model\n",
    "from transformers import RobertaForSequenceClassification as BertForSequenceClassification\n",
    "\n",
    "# Training\n",
    "from transformers import TrainingArguments, Trainer\n",
    "\n",
    "# Evaluation\n",
    "from transformers import EvalPrediction\n",
    "from sklearn.metrics import accuracy_score\n",
    "\n",
    "random.seed(42)\n",
    "DTYPE = np.float32\n",
    "MODEL = \"FacebookAI/roberta-base\""
   ],
   "metadata": {
    "collapsed": false,
    "ExecuteTime": {
     "end_time": "2024-02-26T05:38:08.374668Z",
     "start_time": "2024-02-26T05:38:08.365147Z"
    }
   },
   "id": "b4fde8d31758935c",
   "execution_count": 35
  },
  {
   "cell_type": "markdown",
   "source": [
    "### 1. Compiling the Dataset\n",
    "##### i. Separating the data"
   ],
   "metadata": {
    "collapsed": false
   },
   "id": "5dfb448d74d68855"
  },
  {
   "cell_type": "code",
   "outputs": [],
   "source": [
    "train_path = \"teach-dataset-parsed/train.json\"\n",
    "valid_seen_path = \"teach-dataset-parsed/valid_seen.json\"\n",
    "valid_unseen_path = \"teach-dataset-parsed/valid_unseen.json\"\n",
    "\n",
    "def split_utterances(filename) -> (list, list, list, list):\n",
    "    data = json.load(open(filename, \"r\"))\n",
    "    utterances = []\n",
    "    utterance_labels = []\n",
    "    \n",
    "    # Used for single label classification\n",
    "    text_segments = []\n",
    "    text_segment_labels = []\n",
    "    \n",
    "    for event in data:\n",
    "        utterances.append(event[\"utterance\"])\n",
    "        utterance_labels.append(list(filter(bool, event[\"das\"])))\n",
    "        for text_segment, dialogue_act in zip(event[\"text_segments\"], event[\"das\"]):\n",
    "            if dialogue_act:\n",
    "                text_segments.append(text_segment)\n",
    "                text_segment_labels.append(dialogue_act)\n",
    "            \n",
    "    return utterances, utterance_labels, text_segments, text_segment_labels\n",
    "\n",
    "train_utterances, train_utterance_labels, train_text_segments, train_text_segment_labels = split_utterances(train_path)\n",
    "valid_seen_utterances, valid_seen_utterance_labels, valid_seen_text_segments, valid_seen_text_segment_labels = split_utterances(valid_seen_path)\n",
    "valid_unseen_utterances, valid_unseen_utterance_labels, valid_unseen_text_segments, valid_unseen_text_segment_labels = split_utterances(valid_unseen_path)"
   ],
   "metadata": {
    "collapsed": false,
    "ExecuteTime": {
     "end_time": "2024-02-26T05:38:08.465104Z",
     "start_time": "2024-02-26T05:38:08.379317Z"
    }
   },
   "id": "700cc424ad9966af",
   "execution_count": 36
  },
  {
   "cell_type": "markdown",
   "source": [
    "##### i(a). Analyzing"
   ],
   "metadata": {
    "collapsed": false
   },
   "id": "de784dd0ce2ab7d0"
  },
  {
   "cell_type": "code",
   "outputs": [
    {
     "data": {
      "text/plain": "                               Dialogue Act  \\\n0                               Instruction   \n1                     RequestForInstruction   \n2                          RequestOtherInfo   \n3                               RequestMore   \n4                InformationOnObjectDetails   \n5   RequestForObjectLocationAndOtherDetails   \n6                          InformationOther   \n7                        AlternateQuestions   \n8                               Acknowledge   \n9                     Greetings/Salutations   \n10                                  Confirm   \n11                                MiscOther   \n12                                   Affirm   \n13                                     Deny   \n14                         FeedbackPositive   \n15                         FeedbackNegative   \n16                    OtherInterfaceComment   \n17                            NotifyFailure   \n\n                                              Example  Count  Commander(%)  \\\n0                                 To place the mug in   8350      0.993892   \n1                                   directions please   2986      0.006028   \n2                        Is that it next to the apple    439      0.006834   \n3         The lettuce has been sliced. Anything else?    369      0.002710   \n4                           Remotecontrol is on chair   5077      0.993106   \n5                                      where are they   1488      0.003360   \n6             I'll just use this one on the counter )    750      0.852000   \n7                 mug is clean, should i make coffee?     93      0.301075   \n8                                           thank you   5285      0.191675   \n9                               hello how can I help?   1873      0.432995   \n10                          could it be in a cabinet?    504      0.220238   \n11                                                 NM    481      0.538462   \n12                                                yes    328      0.777439   \n13                                           no knife    126      0.722222   \n14                                          thank you   2149      0.974872   \n15                                            no help     37      0.945946   \n16  Sorry, its taking long to load commands guess ...    370      0.624324   \n17                          having trouble with knife    353      0.036827   \n\n    Driver(%)  \n0    0.006108  \n1    0.993972  \n2    0.993166  \n3    0.997290  \n4    0.006894  \n5    0.996640  \n6    0.148000  \n7    0.698925  \n8    0.808325  \n9    0.567005  \n10   0.779762  \n11   0.461538  \n12   0.222561  \n13   0.277778  \n14   0.025128  \n15   0.054054  \n16   0.375676  \n17   0.963173  ",
      "text/html": "<div>\n<style scoped>\n    .dataframe tbody tr th:only-of-type {\n        vertical-align: middle;\n    }\n\n    .dataframe tbody tr th {\n        vertical-align: top;\n    }\n\n    .dataframe thead th {\n        text-align: right;\n    }\n</style>\n<table border=\"1\" class=\"dataframe\">\n  <thead>\n    <tr style=\"text-align: right;\">\n      <th></th>\n      <th>Dialogue Act</th>\n      <th>Example</th>\n      <th>Count</th>\n      <th>Commander(%)</th>\n      <th>Driver(%)</th>\n    </tr>\n  </thead>\n  <tbody>\n    <tr>\n      <th>0</th>\n      <td>Instruction</td>\n      <td>To place the mug in</td>\n      <td>8350</td>\n      <td>0.993892</td>\n      <td>0.006108</td>\n    </tr>\n    <tr>\n      <th>1</th>\n      <td>RequestForInstruction</td>\n      <td>directions please</td>\n      <td>2986</td>\n      <td>0.006028</td>\n      <td>0.993972</td>\n    </tr>\n    <tr>\n      <th>2</th>\n      <td>RequestOtherInfo</td>\n      <td>Is that it next to the apple</td>\n      <td>439</td>\n      <td>0.006834</td>\n      <td>0.993166</td>\n    </tr>\n    <tr>\n      <th>3</th>\n      <td>RequestMore</td>\n      <td>The lettuce has been sliced. Anything else?</td>\n      <td>369</td>\n      <td>0.002710</td>\n      <td>0.997290</td>\n    </tr>\n    <tr>\n      <th>4</th>\n      <td>InformationOnObjectDetails</td>\n      <td>Remotecontrol is on chair</td>\n      <td>5077</td>\n      <td>0.993106</td>\n      <td>0.006894</td>\n    </tr>\n    <tr>\n      <th>5</th>\n      <td>RequestForObjectLocationAndOtherDetails</td>\n      <td>where are they</td>\n      <td>1488</td>\n      <td>0.003360</td>\n      <td>0.996640</td>\n    </tr>\n    <tr>\n      <th>6</th>\n      <td>InformationOther</td>\n      <td>I'll just use this one on the counter )</td>\n      <td>750</td>\n      <td>0.852000</td>\n      <td>0.148000</td>\n    </tr>\n    <tr>\n      <th>7</th>\n      <td>AlternateQuestions</td>\n      <td>mug is clean, should i make coffee?</td>\n      <td>93</td>\n      <td>0.301075</td>\n      <td>0.698925</td>\n    </tr>\n    <tr>\n      <th>8</th>\n      <td>Acknowledge</td>\n      <td>thank you</td>\n      <td>5285</td>\n      <td>0.191675</td>\n      <td>0.808325</td>\n    </tr>\n    <tr>\n      <th>9</th>\n      <td>Greetings/Salutations</td>\n      <td>hello how can I help?</td>\n      <td>1873</td>\n      <td>0.432995</td>\n      <td>0.567005</td>\n    </tr>\n    <tr>\n      <th>10</th>\n      <td>Confirm</td>\n      <td>could it be in a cabinet?</td>\n      <td>504</td>\n      <td>0.220238</td>\n      <td>0.779762</td>\n    </tr>\n    <tr>\n      <th>11</th>\n      <td>MiscOther</td>\n      <td>NM</td>\n      <td>481</td>\n      <td>0.538462</td>\n      <td>0.461538</td>\n    </tr>\n    <tr>\n      <th>12</th>\n      <td>Affirm</td>\n      <td>yes</td>\n      <td>328</td>\n      <td>0.777439</td>\n      <td>0.222561</td>\n    </tr>\n    <tr>\n      <th>13</th>\n      <td>Deny</td>\n      <td>no knife</td>\n      <td>126</td>\n      <td>0.722222</td>\n      <td>0.277778</td>\n    </tr>\n    <tr>\n      <th>14</th>\n      <td>FeedbackPositive</td>\n      <td>thank you</td>\n      <td>2149</td>\n      <td>0.974872</td>\n      <td>0.025128</td>\n    </tr>\n    <tr>\n      <th>15</th>\n      <td>FeedbackNegative</td>\n      <td>no help</td>\n      <td>37</td>\n      <td>0.945946</td>\n      <td>0.054054</td>\n    </tr>\n    <tr>\n      <th>16</th>\n      <td>OtherInterfaceComment</td>\n      <td>Sorry, its taking long to load commands guess ...</td>\n      <td>370</td>\n      <td>0.624324</td>\n      <td>0.375676</td>\n    </tr>\n    <tr>\n      <th>17</th>\n      <td>NotifyFailure</td>\n      <td>having trouble with knife</td>\n      <td>353</td>\n      <td>0.036827</td>\n      <td>0.963173</td>\n    </tr>\n  </tbody>\n</table>\n</div>"
     },
     "execution_count": 53,
     "metadata": {},
     "output_type": "execute_result"
    }
   ],
   "source": [
    "Columns = [\"Dialogue Act\", \"Example\", \"Count\", \"Commander(%)\", \"Driver(%)\"]\n",
    "labels = [\n",
    "    \"Instruction\",\n",
    "    \"RequestForInstruction\",\n",
    "    \"RequestOtherInfo\",\n",
    "    \"RequestMore\",\n",
    "    \"InformationOnObjectDetails\",\n",
    "    \"RequestForObjectLocationAndOtherDetails\",\n",
    "    \"InformationOther\",\n",
    "    \"AlternateQuestions\",\n",
    "    \"Acknowledge\",\n",
    "    \"Greetings/Salutations\",\n",
    "    \"Confirm\",\n",
    "    \"MiscOther\",\n",
    "    \"Affirm\",\n",
    "    \"Deny\",\n",
    "    \"FeedbackPositive\",\n",
    "    \"FeedbackNegative\",\n",
    "    \"OtherInterfaceComment\",\n",
    "    \"NotifyFailure\"\n",
    "]\n",
    "\n",
    "driver_das = {}\n",
    "commander_das = {}\n",
    "\n",
    "for event in json.load(open(train_path, \"r\")) + json.load(open(valid_seen_path, \"r\")) + json.load(open(valid_unseen_path, \"r\")):\n",
    "    for da, segment in zip(event[\"das\"], event[\"text_segments\"]):\n",
    "        if da:\n",
    "            dialogue_act = da[0].upper() + da[1:]\n",
    "            if dialogue_act not in driver_das:\n",
    "                driver_das[dialogue_act] = []\n",
    "                commander_das[dialogue_act] = []\n",
    "            if event[\"agent\"] == \"Driver\":\n",
    "                driver_das[dialogue_act].append(event[\"utterance\"])\n",
    "            else:\n",
    "                commander_das[dialogue_act].append(event[\"utterance\"])\n",
    "                \n",
    "data = []\n",
    "for label in labels:\n",
    "    driver = driver_das[label]\n",
    "    commander = commander_das[label]\n",
    "    data.append([label, \n",
    "                 driver[0] if driver else commander[0], \n",
    "                 len(driver) + len(commander), \n",
    "                 len(commander) / (len(driver) + len(commander)), \n",
    "                 len(driver) / (len(driver) + len(commander))])\n",
    "\n",
    "df = pd.DataFrame(data, columns=Columns)\n",
    "df"
   ],
   "metadata": {
    "collapsed": false,
    "ExecuteTime": {
     "end_time": "2024-02-26T16:06:34.576445Z",
     "start_time": "2024-02-26T16:06:34.441935Z"
    }
   },
   "id": "850795995b70638d",
   "execution_count": 53
  },
  {
   "cell_type": "markdown",
   "source": [
    "##### ii. Making test and validation sets"
   ],
   "metadata": {
    "collapsed": false
   },
   "id": "b265947df7a74d59"
  },
  {
   "cell_type": "code",
   "outputs": [],
   "source": [
    "valid_utterances = valid_seen_utterances[:len(valid_seen_utterances) // 2] + valid_unseen_utterances[:len(valid_unseen_utterances) // 2]\n",
    "valid_utterance_labels = valid_seen_utterance_labels[:len(valid_seen_utterance_labels) // 2] + valid_unseen_utterance_labels[:len(valid_unseen_utterance_labels) // 2]\n",
    "valid_text_segments = valid_seen_text_segments[:len(valid_seen_text_segments) // 2] + valid_unseen_text_segments[:len(valid_unseen_text_segments) // 2]\n",
    "valid_text_segment_labels = valid_seen_text_segment_labels[:len(valid_seen_text_segment_labels) // 2] + valid_unseen_text_segment_labels[:len(valid_unseen_text_segment_labels) // 2]\n",
    "\n",
    "test_utterances = valid_seen_utterances[len(valid_seen_utterances) // 2:] + valid_unseen_utterances[len(valid_unseen_utterances) // 2:]\n",
    "test_utterance_labels = valid_seen_utterance_labels[len(valid_seen_utterance_labels) // 2:] + valid_unseen_utterance_labels[len(valid_unseen_utterance_labels) // 2:]\n",
    "test_text_segments = valid_seen_text_segments[len(valid_seen_text_segments) // 2:] + valid_unseen_text_segments[len(valid_unseen_text_segments) // 2:]\n",
    "test_text_segment_labels = valid_seen_text_segment_labels[len(valid_seen_text_segment_labels) // 2:] + valid_unseen_text_segment_labels[len(valid_unseen_text_segment_labels) // 2:]"
   ],
   "metadata": {
    "collapsed": false,
    "ExecuteTime": {
     "end_time": "2024-02-26T05:38:08.477874Z",
     "start_time": "2024-02-26T05:38:08.472115Z"
    }
   },
   "id": "eae7ea3e1de4dec9",
   "execution_count": 37
  },
  {
   "cell_type": "markdown",
   "source": [
    "##### iii. Tokenizing"
   ],
   "metadata": {
    "collapsed": false
   },
   "id": "b72eaddc7ae06e57"
  },
  {
   "cell_type": "code",
   "outputs": [],
   "source": [
    "tokenizer = BertTokenizer.from_pretrained(MODEL, do_lower_case=True)\n",
    "\n",
    "train_text_segment_encodings = tokenizer(train_text_segments, truncation=True, padding=True)\n",
    "valid_text_segment_encodings = tokenizer(valid_text_segments, truncation=True, padding=True)\n",
    "test_text_segment_encodings = tokenizer(test_text_segments, truncation=True, padding=True)\n",
    "\n",
    "train_utterance_encodings = tokenizer(train_utterances, truncation=True, padding=True)\n",
    "valid_utterance_encodings = tokenizer(valid_utterances, truncation=True, padding=True)\n",
    "test_utterance_encodings = tokenizer(test_utterances, truncation=True, padding=True)"
   ],
   "metadata": {
    "collapsed": false,
    "ExecuteTime": {
     "end_time": "2024-02-26T05:38:11.057710Z",
     "start_time": "2024-02-26T05:38:08.477946Z"
    }
   },
   "id": "36a1353c2243dccd",
   "execution_count": 38
  },
  {
   "cell_type": "markdown",
   "source": [
    "##### iv. Labeling"
   ],
   "metadata": {
    "collapsed": false
   },
   "id": "b2dcbda1a8e1a355"
  },
  {
   "cell_type": "code",
   "outputs": [],
   "source": [
    "filenames = [train_path, valid_seen_path, valid_unseen_path]\n",
    "\n",
    "labels = set()\n",
    "for filename in filenames:\n",
    "    data = json.load(open(filename, \"r\"))\n",
    "    for event in data:\n",
    "        labels.update(event[\"das\"])\n",
    "labels.remove(\"\")\n",
    "\n",
    "labels = list(labels)\n",
    "\n",
    "def remap_multilabels(label_list: list[str]) -> list[int]:\n",
    "    return [int(label in label_list) for label in labels]\n",
    "\n",
    "def remap_singlelabels(label: str) -> list[int]:\n",
    "    return [int(label == label_) for label_ in labels]\n",
    "\n",
    "train_text_segment_labels_encoded = list(map(remap_singlelabels, train_text_segment_labels))\n",
    "valid_text_segment_labels_encoded = list(map(remap_singlelabels, valid_text_segment_labels))\n",
    "test_text_segment_labels_encoded = list(map(remap_singlelabels, test_text_segment_labels))\n",
    "\n",
    "train_utterance_labels_encoded = list(map(remap_multilabels, train_utterance_labels))\n",
    "valid_utterance_labels_encoded = list(map(remap_multilabels, valid_utterance_labels))\n",
    "test_utterance_labels_encoded = list(map(remap_multilabels, test_utterance_labels))"
   ],
   "metadata": {
    "collapsed": false,
    "ExecuteTime": {
     "end_time": "2024-02-26T05:38:11.322446Z",
     "start_time": "2024-02-26T05:38:11.061095Z"
    }
   },
   "id": "e5f39c7dc2683b84",
   "execution_count": 39
  },
  {
   "cell_type": "markdown",
   "source": [
    "##### iv. Dataset Creation"
   ],
   "metadata": {
    "collapsed": false
   },
   "id": "69d8be2bc8a165b6"
  },
  {
   "cell_type": "code",
   "outputs": [],
   "source": [
    "def get_dataset(encodings, labels) -> dict:\n",
    "    dataset = {\n",
    "        \"input_ids\": torch.tensor(encodings[\"input_ids\"], dtype=torch.int32),\n",
    "        \"attention_mask\": torch.tensor(encodings[\"attention_mask\"], dtype=torch.int32),\n",
    "        \"labels\": torch.tensor(labels, dtype=torch.float32)\n",
    "    }\n",
    "    \n",
    "    return dataset\n",
    "\n",
    "train_text_segments_dataset = Dataset.from_dict(get_dataset(train_text_segment_encodings, train_text_segment_labels_encoded))\n",
    "valid_text_segments_dataset = Dataset.from_dict(get_dataset(valid_text_segment_encodings, valid_text_segment_labels_encoded))\n",
    "test_text_segments_dataset = Dataset.from_dict(get_dataset(test_text_segment_encodings, test_text_segment_labels_encoded))\n",
    "\n",
    "train_utterances_dataset = Dataset.from_dict(get_dataset(train_utterance_encodings, train_utterance_labels_encoded))\n",
    "valid_utterances_dataset = Dataset.from_dict(get_dataset(valid_utterance_encodings, valid_utterance_labels_encoded))\n",
    "test_utterances_dataset = Dataset.from_dict(get_dataset(test_utterance_encodings, test_utterance_labels_encoded))\n",
    "\n",
    "# print(train_utterances_dataset[0][2].shape)"
   ],
   "metadata": {
    "collapsed": false,
    "ExecuteTime": {
     "end_time": "2024-02-26T05:38:12.544951Z",
     "start_time": "2024-02-26T05:38:11.479088Z"
    }
   },
   "id": "a0e2e96e6d20a818",
   "execution_count": 40
  },
  {
   "cell_type": "markdown",
   "source": [
    "### 2. Model Setup\n",
    "##### i. Model Initialization"
   ],
   "metadata": {
    "collapsed": false
   },
   "id": "2c7c94440c7a7067"
  },
  {
   "cell_type": "code",
   "outputs": [
    {
     "name": "stderr",
     "output_type": "stream",
     "text": [
      "Some weights of RobertaForSequenceClassification were not initialized from the model checkpoint at FacebookAI/roberta-base and are newly initialized: ['classifier.dense.bias', 'classifier.dense.weight', 'classifier.out_proj.bias', 'classifier.out_proj.weight']\n",
      "You should probably TRAIN this model on a down-stream task to be able to use it for predictions and inference.\n",
      "Some weights of RobertaForSequenceClassification were not initialized from the model checkpoint at FacebookAI/roberta-base and are newly initialized: ['classifier.dense.bias', 'classifier.dense.weight', 'classifier.out_proj.bias', 'classifier.out_proj.weight']\n",
      "You should probably TRAIN this model on a down-stream task to be able to use it for predictions and inference.\n"
     ]
    },
    {
     "name": "stdout",
     "output_type": "stream",
     "text": [
      "Using Metal Renderer\n"
     ]
    }
   ],
   "source": [
    "# Initializing the Single-Label Classification\n",
    "single_model = BertForSequenceClassification.from_pretrained(MODEL,\n",
    "    problem_type=\"single_label_classification\",\n",
    "    num_labels=len(labels),\n",
    "    output_attentions=False,\n",
    "    output_hidden_states=False,\n",
    ")\n",
    "# Initializing the Multi-Label Classification Model\n",
    "multi_model = BertForSequenceClassification.from_pretrained(MODEL, \n",
    "    problem_type=\"multi_label_classification\",\n",
    "    num_labels=len(labels),\n",
    "    output_attentions=False,\n",
    "    output_hidden_states=False\n",
    ")\n",
    "# I have a mac, so I'll use metal\n",
    "if torch.backends.mps.is_available():\n",
    "    torch_device = torch.device(\"mps\")\n",
    "    print(\"Using Metal Renderer\")\n",
    "    single_model.to(torch_device)\n",
    "    multi_model.to(torch_device)\n",
    "elif torch.cuda.is_available():\n",
    "    torch_device = torch.device(\"cuda\")\n",
    "    print(\"Using CUDA\")\n",
    "    single_model.to(torch_device)\n",
    "    multi_model.to(torch_device)\n",
    "else:\n",
    "    torch_device = torch.device(\"cpu\")\n",
    "    print(\"Using CPU\")\n",
    "    single_model.to(torch_device)\n",
    "    multi_model.to(torch_device)\n",
    "    \n",
    "single_model.train()\n",
    "multi_model.train(); # ; To not print the model"
   ],
   "metadata": {
    "collapsed": false,
    "ExecuteTime": {
     "end_time": "2024-02-26T05:38:14.480814Z",
     "start_time": "2024-02-26T05:38:12.547148Z"
    }
   },
   "id": "9e74a0805f9e6972",
   "execution_count": 41
  },
  {
   "cell_type": "markdown",
   "source": [
    "##### ii. Train Parameters"
   ],
   "metadata": {
    "collapsed": false
   },
   "id": "baa4010965011668"
  },
  {
   "cell_type": "code",
   "outputs": [],
   "source": [
    "EPOCHS = 4 # Apparently recommended\n",
    "BATCH_SIZE = 16\n",
    "\n",
    "\n",
    "total_steps = BATCH_SIZE * EPOCHS"
   ],
   "metadata": {
    "collapsed": false,
    "ExecuteTime": {
     "end_time": "2024-02-26T05:38:14.485431Z",
     "start_time": "2024-02-26T05:38:14.481188Z"
    }
   },
   "id": "edaa2e7d5d50d9a7",
   "execution_count": 42
  },
  {
   "cell_type": "markdown",
   "source": [
    "### 3. Training"
   ],
   "metadata": {
    "collapsed": false
   },
   "id": "f3f772cbf4d5ae2d"
  },
  {
   "cell_type": "markdown",
   "source": [
    "##### i. Single-Label Classification"
   ],
   "metadata": {
    "collapsed": false
   },
   "id": "ed0e306bd169fb3e"
  },
  {
   "cell_type": "code",
   "outputs": [
    {
     "data": {
      "text/plain": "<IPython.core.display.HTML object>",
      "text/html": "\n    <div>\n      \n      <progress value='4832' max='4832' style='width:300px; height:20px; vertical-align: middle;'></progress>\n      [4832/4832 19:07, Epoch 4/4]\n    </div>\n    <table border=\"1\" class=\"dataframe\">\n  <thead>\n <tr style=\"text-align: left;\">\n      <th>Epoch</th>\n      <th>Training Loss</th>\n      <th>Validation Loss</th>\n      <th>Accuracy</th>\n    </tr>\n  </thead>\n  <tbody>\n    <tr>\n      <td>1</td>\n      <td>0.055100</td>\n      <td>0.053624</td>\n      <td>0.753299</td>\n    </tr>\n    <tr>\n      <td>2</td>\n      <td>0.042800</td>\n      <td>0.046412</td>\n      <td>0.771777</td>\n    </tr>\n    <tr>\n      <td>3</td>\n      <td>0.034600</td>\n      <td>0.046420</td>\n      <td>0.785990</td>\n    </tr>\n    <tr>\n      <td>4</td>\n      <td>0.029900</td>\n      <td>0.046819</td>\n      <td>0.792284</td>\n    </tr>\n  </tbody>\n</table><p>"
     },
     "metadata": {},
     "output_type": "display_data"
    }
   ],
   "source": [
    "checkpoints = glob.glob(\"results/checkpoint-*\")\n",
    "\n",
    "if checkpoints:\n",
    "    multi_model = BertForSequenceClassification.from_pretrained(checkpoints[-1])\n",
    "    multi_model.to(torch_device)\n",
    "\n",
    "\n",
    "training_args = TrainingArguments(\n",
    "    output_dir=\"./results\",\n",
    "    num_train_epochs=EPOCHS,\n",
    "    per_device_train_batch_size=BATCH_SIZE,\n",
    "    per_device_eval_batch_size=BATCH_SIZE,\n",
    "    warmup_steps=0,\n",
    "    weight_decay=0.01,\n",
    "    evaluation_strategy=\"epoch\",\n",
    "    save_strategy=\"epoch\",\n",
    ")\n",
    "\n",
    "# source: https://jesusleal.io/2021/04/21/Longformer-multilabel-classification/\n",
    "def multi_label_metrics(predictions, labels, threshold=0.5):\n",
    "    sigmoid = torch.nn.Sigmoid()\n",
    "    probs = sigmoid(torch.Tensor(predictions))\n",
    "    \n",
    "    y_pred = probs > threshold\n",
    "    y_true = labels\n",
    "    return { 'accuracy': accuracy_score(y_true, y_pred) }\n",
    "\n",
    "def compute_metric(pred: EvalPrediction):\n",
    "    return multi_label_metrics(pred.predictions, pred.label_ids)\n",
    "\n",
    "trainer = Trainer(\n",
    "    model=multi_model,\n",
    "    args=training_args,\n",
    "    train_dataset=train_utterances_dataset,\n",
    "    eval_dataset=valid_utterances_dataset,\n",
    "    compute_metrics=compute_metric,\n",
    ")\n",
    "\n",
    "if not checkpoints:\n",
    "    trainer.train()"
   ],
   "metadata": {
    "collapsed": false,
    "ExecuteTime": {
     "end_time": "2024-02-26T05:57:22.440658Z",
     "start_time": "2024-02-26T05:38:14.485615Z"
    }
   },
   "id": "aa746d7d1a2fae4b",
   "execution_count": 43
  },
  {
   "cell_type": "markdown",
   "source": [
    "### 4. Evaluation"
   ],
   "metadata": {
    "collapsed": false
   },
   "id": "871c63e455a36758"
  },
  {
   "cell_type": "code",
   "outputs": [
    {
     "data": {
      "text/plain": "<IPython.core.display.HTML object>",
      "text/html": ""
     },
     "metadata": {},
     "output_type": "display_data"
    },
    {
     "data": {
      "text/plain": "0.7990255785627284"
     },
     "execution_count": 44,
     "metadata": {},
     "output_type": "execute_result"
    }
   ],
   "source": [
    "predictions = trainer.predict(test_utterances_dataset)\n",
    "\n",
    "multi_label_metrics(predictions.predictions, test_utterance_labels_encoded)[\"accuracy\"]"
   ],
   "metadata": {
    "collapsed": false,
    "ExecuteTime": {
     "end_time": "2024-02-26T05:57:30.764191Z",
     "start_time": "2024-02-26T05:57:22.439690Z"
    }
   },
   "id": "5f3e7b7726d08971",
   "execution_count": 44
  }
 ],
 "metadata": {
  "kernelspec": {
   "display_name": "Python 3",
   "language": "python",
   "name": "python3"
  },
  "language_info": {
   "codemirror_mode": {
    "name": "ipython",
    "version": 2
   },
   "file_extension": ".py",
   "mimetype": "text/x-python",
   "name": "python",
   "nbconvert_exporter": "python",
   "pygments_lexer": "ipython2",
   "version": "2.7.6"
  }
 },
 "nbformat": 4,
 "nbformat_minor": 5
}
