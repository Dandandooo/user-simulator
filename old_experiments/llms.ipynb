{
 "cells": [
  {
   "metadata": {},
   "cell_type": "markdown",
   "source": [
    "# Evaluation of LLMs for User Simulation\n",
    "\n",
    "Table of Contents:\n",
    "1. GPT4\n",
    "2. Llama\n",
    "3. Llama fine-tuned"
   ],
   "id": "bb6f87055797f922"
  },
  {
   "metadata": {},
   "cell_type": "markdown",
   "source": "## GPT4",
   "id": "8a532858126f81d"
  },
  {
   "cell_type": "code",
   "execution_count": null,
   "id": "initial_id",
   "metadata": {
    "collapsed": true
   },
   "source": [
    "from src.model.causal import GPT4LM\n",
    "\n"
   ],
   "outputs": []
  },
  {
   "metadata": {},
   "cell_type": "markdown",
   "source": [
    "## Llama 3\n",
    "For this I will be using Llama 3 13B model"
   ],
   "id": "5c4e3361f4c00d37"
  },
  {
   "metadata": {
    "ExecuteTime": {
     "end_time": "2024-05-20T01:14:09.084221Z",
     "start_time": "2024-05-19T22:09:59.704487Z"
    }
   },
   "cell_type": "code",
   "source": [
    "from src.model.causal import HugLM\n",
    "llama = HugLM(\"meta-llama/Meta-Llama-3-8B-Instruct\")"
   ],
   "id": "ac45a3cfef05c492",
   "execution_count": 1,
   "outputs": []
  }
 ],
 "metadata": {
  "kernelspec": {
   "display_name": "Python 3",
   "language": "python",
   "name": "python3"
  },
  "language_info": {
   "codemirror_mode": {
    "name": "ipython",
    "version": 2
   },
   "file_extension": ".py",
   "mimetype": "text/x-python",
   "name": "python",
   "nbconvert_exporter": "python",
   "pygments_lexer": "ipython2",
   "version": "2.7.6"
  }
 },
 "nbformat": 4,
 "nbformat_minor": 5
}
